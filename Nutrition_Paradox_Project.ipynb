{
  "nbformat": 4,
  "nbformat_minor": 0,
  "metadata": {
    "colab": {
      "provenance": [],
      "authorship_tag": "ABX9TyNYKuk+qT4k7N42T7UcL2tW",
      "include_colab_link": true
    },
    "kernelspec": {
      "name": "python3",
      "display_name": "Python 3"
    },
    "language_info": {
      "name": "python"
    }
  },
  "cells": [
    {
      "cell_type": "markdown",
      "metadata": {
        "id": "view-in-github",
        "colab_type": "text"
      },
      "source": [
        "<a href=\"https://colab.research.google.com/github/xavdx/Nutrition-Paradox/blob/main/Nutrition_Paradox_Project.ipynb\" target=\"_parent\"><img src=\"https://colab.research.google.com/assets/colab-badge.svg\" alt=\"Open In Colab\"/></a>"
      ]
    },
    {
      "cell_type": "code",
      "execution_count": 1,
      "metadata": {
        "colab": {
          "base_uri": "https://localhost:8080/"
        },
        "id": "CVBa1srqmqiA",
        "outputId": "b66b2af7-cccc-4c42-e8e4-209216e5fb10"
      },
      "outputs": [
        {
          "output_type": "stream",
          "name": "stdout",
          "text": [
            "Requirement already satisfied: requests in /usr/local/lib/python3.11/dist-packages (2.32.3)\n",
            "Requirement already satisfied: pycountry in /usr/local/lib/python3.11/dist-packages (24.6.1)\n",
            "Requirement already satisfied: charset-normalizer<4,>=2 in /usr/local/lib/python3.11/dist-packages (from requests) (3.4.2)\n",
            "Requirement already satisfied: idna<4,>=2.5 in /usr/local/lib/python3.11/dist-packages (from requests) (3.10)\n",
            "Requirement already satisfied: urllib3<3,>=1.21.1 in /usr/local/lib/python3.11/dist-packages (from requests) (2.5.0)\n",
            "Requirement already satisfied: certifi>=2017.4.17 in /usr/local/lib/python3.11/dist-packages (from requests) (2025.7.14)\n"
          ]
        }
      ],
      "source": [
        "!pip install requests pycountry"
      ]
    },
    {
      "cell_type": "code",
      "source": [
        "import pandas as pd\n",
        "import requests\n",
        "import pycountry\n",
        "import json"
      ],
      "metadata": {
        "id": "Ev92pcsenDvh"
      },
      "execution_count": 2,
      "outputs": []
    },
    {
      "cell_type": "code",
      "source": [
        "#Obesity\n",
        "adult_obesity_url= \"https://ghoapi.azureedge.net/api/NCD_BMI_30C\"\n",
        "child_obesity_url= \"https://ghoapi.azureedge.net/api/NCD_BMI_PLUS2C\"\n",
        "#Malnutrition\n",
        "adult_malnutrition_url= \"https://ghoapi.azureedge.net/api/NCD_BMI_18C\"\n",
        "child_malnutrition_url= \"https://ghoapi.azureedge.net/api/NCD_BMI_MINUS2C\""
      ],
      "metadata": {
        "id": "hb0C3GTcndQg"
      },
      "execution_count": 3,
      "outputs": []
    },
    {
      "cell_type": "code",
      "source": [
        "def fetch_who_data(api_url):\n",
        "    response= requests.get(api_url)\n",
        "    if response.status_code== 200:\n",
        "        data= response.json()['value']\n",
        "        df= pd.json_normalize(data)\n",
        "        return df\n",
        "    else:\n",
        "        print(\"Failed to fetch data:\", response.status_code)\n",
        "        return pd.DataFrame()"
      ],
      "metadata": {
        "id": "YVM6Ffg3nk-Z"
      },
      "execution_count": 4,
      "outputs": []
    },
    {
      "cell_type": "code",
      "source": [
        "df_adult_obesity= fetch_who_data(adult_obesity_url)\n",
        "df_child_obesity= fetch_who_data(child_obesity_url)\n",
        "\n",
        "df_adult_malnutrition= fetch_who_data(adult_malnutrition_url)\n",
        "df_child_malnutrition= fetch_who_data(child_malnutrition_url)"
      ],
      "metadata": {
        "id": "yYn-E-1nno4O"
      },
      "execution_count": 5,
      "outputs": []
    },
    {
      "cell_type": "code",
      "source": [
        "df_adult_obesity['age_group'] = 'Adult'\n",
        "df_child_obesity['age_group'] = 'Child'\n",
        "\n",
        "df_adult_malnutrition['age_group'] = 'Adult'\n",
        "df_child_malnutrition['age_group'] = 'Child'"
      ],
      "metadata": {
        "id": "BiIuPWE3n4SP"
      },
      "execution_count": 6,
      "outputs": []
    },
    {
      "cell_type": "code",
      "source": [
        "df_obesity = pd.concat([df_adult_obesity, df_child_obesity], ignore_index=True)\n",
        "df_malnutrition = pd.concat([df_adult_malnutrition, df_child_malnutrition], ignore_index=True)"
      ],
      "metadata": {
        "id": "3kG3Lsoipmbp"
      },
      "execution_count": 7,
      "outputs": []
    },
    {
      "cell_type": "code",
      "source": [
        "df_obesity = df_obesity[df_obesity['TimeDim'].between(2012, 2022)]\n",
        "df_malnutrition = df_malnutrition[df_malnutrition['TimeDim'].between(2012, 2022)]"
      ],
      "metadata": {
        "id": "E278whjhppfi"
      },
      "execution_count": 8,
      "outputs": []
    },
    {
      "cell_type": "code",
      "source": [
        "#Keeping only the required columns\n",
        "keep_cols=['TimeDim', 'Dim1', 'NumericValue', 'Low', 'High', 'ParentLocation', 'SpatialDim', 'age_group']\n",
        "\n",
        "df_obesity= df_obesity[keep_cols].copy()\n",
        "df_malnutrition= df_malnutrition[keep_cols].copy()\n",
        "\n",
        "#Rename columns\n",
        "rename_cols={\n",
        "    'TimeDim': 'Year',\n",
        "    'Dim1': 'Gender',\n",
        "    'NumericValue': 'Mean_Estimate',\n",
        "    'Low': 'LowerBound',\n",
        "    'High': 'UpperBound',\n",
        "    'ParentLocation': 'Region',\n",
        "    'SpatialDim': 'Country'\n",
        "}\n",
        "df_obesity.rename(columns=rename_cols, inplace=True)\n",
        "df_malnutrition.rename(columns=rename_cols, inplace=True)"
      ],
      "metadata": {
        "id": "WVOI4iT34LDX"
      },
      "execution_count": 9,
      "outputs": []
    },
    {
      "cell_type": "code",
      "source": [
        "def clean_gender(value):\n",
        "    if 'male' in value.lower():\n",
        "        return 'Male'\n",
        "    elif 'female' in value.lower():\n",
        "        return 'Female'\n",
        "    else:\n",
        "        return 'Both'\n",
        "\n",
        "df_obesity['Gender']= df_obesity['Gender'].apply(clean_gender)\n",
        "df_malnutrition['Gender']= df_malnutrition['Gender'].apply(clean_gender)"
      ],
      "metadata": {
        "id": "QTjiTWXR4QkM"
      },
      "execution_count": 10,
      "outputs": []
    },
    {
      "cell_type": "code",
      "source": [
        "import pycountry\n",
        "df_obesity['Country_Code'] = df_obesity['Country']\n",
        "df_malnutrition['Country_Code'] = df_malnutrition['Country']\n",
        "\n",
        "def convert_country_code(code):\n",
        "    try:\n",
        "        country= pycountry.countries.get(alpha_3=code)\n",
        "        return country.name if country else None\n",
        "    except:\n",
        "        return None\n",
        "\n",
        "df_obesity['Country']= df_obesity['Country'].apply(convert_country_code)\n",
        "df_malnutrition['Country']= df_malnutrition['Country'].apply(convert_country_code)"
      ],
      "metadata": {
        "id": "1W3-zAXK4fQ-"
      },
      "execution_count": 11,
      "outputs": []
    },
    {
      "cell_type": "code",
      "source": [
        "special_cases = {\n",
        "    'GLOBAL': 'Global',\n",
        "    'WB_LMI': 'Low & Middle Income',\n",
        "    'WB_HI': 'High Income',\n",
        "    'WB_LI': 'Low Income',\n",
        "    'WB_UMI': 'Upper Middle Income',\n",
        "    'EMR': 'Eastern Mediterranean Region',\n",
        "    'EUR': 'Europe',\n",
        "    'AFR': 'Africa',\n",
        "    'SEAR': 'South-East Asia Region',\n",
        "    'WPR': 'Western Pacific Region',\n",
        "    'AMR': 'Americas Region',\n",
        "    'AMRO': 'Americas Region'\n",
        "}\n",
        "#fill unmatched country names using Country_Code\n",
        "df_obesity['Country'] = df_obesity['Country'].fillna(df_obesity['Country_Code'].map(special_cases))\n",
        "df_malnutrition['Country'] = df_malnutrition['Country'].fillna(df_malnutrition['Country_Code'].map(special_cases))\n",
        "\n",
        "#apply to WHO regions\n",
        "df_obesity['Region'] = df_obesity['Region'].replace(special_cases)\n",
        "df_malnutrition['Region'] = df_malnutrition['Region'].replace(special_cases)\n",
        "\n",
        "#remove rows with blank region\n",
        "df_obesity = df_obesity[df_obesity['Region'].notna()]\n",
        "df_malnutrition = df_malnutrition[df_malnutrition['Region'].notna()]"
      ],
      "metadata": {
        "id": "Pv3gYNQe4wh5"
      },
      "execution_count": 12,
      "outputs": []
    },
    {
      "cell_type": "code",
      "source": [
        "df_obesity['CI_Width'] = df_obesity['UpperBound']-df_obesity['LowerBound']\n",
        "df_malnutrition['CI_Width'] = df_malnutrition['UpperBound']-df_malnutrition['LowerBound']"
      ],
      "metadata": {
        "id": "vSDR6RrK5ByL"
      },
      "execution_count": 13,
      "outputs": []
    },
    {
      "cell_type": "markdown",
      "source": [
        "# **Step 2:**\n",
        "**Creating Obesity levels and Malnutrition levels for the respective tables**"
      ],
      "metadata": {
        "id": "0RqIb2la5WZn"
      }
    },
    {
      "cell_type": "code",
      "source": [
        "def categorize_obesity(value):\n",
        "    if value>=30:\n",
        "        return 'High'\n",
        "    elif value>=25 and value<30:\n",
        "        return 'Moderate'\n",
        "    else:\n",
        "        return 'Low'\n",
        "df_obesity['Obesity_Level']= df_obesity['Mean_Estimate'].apply(categorize_obesity)"
      ],
      "metadata": {
        "id": "IerDUct05HN4"
      },
      "execution_count": 14,
      "outputs": []
    },
    {
      "cell_type": "code",
      "source": [
        "def categorize_malnutrition(value):\n",
        "    if value>=20:\n",
        "        return 'High'\n",
        "    elif value>=10 and value<20:\n",
        "        return 'Moderate'\n",
        "    else:\n",
        "        return 'Low'\n",
        "\n",
        "df_malnutrition['Malnutrition_Level']=df_malnutrition['Mean_Estimate'].apply(categorize_malnutrition)"
      ],
      "metadata": {
        "id": "I977jd245rId"
      },
      "execution_count": 15,
      "outputs": []
    },
    {
      "cell_type": "code",
      "source": [
        "df_malnutrition.columns"
      ],
      "metadata": {
        "colab": {
          "base_uri": "https://localhost:8080/"
        },
        "id": "v2SGBL8g5wEi",
        "outputId": "5f634c3e-2963-4602-a6cf-550a63f9da5e"
      },
      "execution_count": 16,
      "outputs": [
        {
          "output_type": "execute_result",
          "data": {
            "text/plain": [
              "Index(['Year', 'Gender', 'Mean_Estimate', 'LowerBound', 'UpperBound', 'Region',\n",
              "       'Country', 'age_group', 'Country_Code', 'CI_Width',\n",
              "       'Malnutrition_Level'],\n",
              "      dtype='object')"
            ]
          },
          "metadata": {},
          "execution_count": 16
        }
      ]
    },
    {
      "cell_type": "code",
      "source": [
        "df_obesity.columns"
      ],
      "metadata": {
        "colab": {
          "base_uri": "https://localhost:8080/"
        },
        "id": "qqDiY3va6EtW",
        "outputId": "f35513fa-7ae1-469b-daeb-aa020f1420cf"
      },
      "execution_count": 17,
      "outputs": [
        {
          "output_type": "execute_result",
          "data": {
            "text/plain": [
              "Index(['Year', 'Gender', 'Mean_Estimate', 'LowerBound', 'UpperBound', 'Region',\n",
              "       'Country', 'age_group', 'Country_Code', 'CI_Width', 'Obesity_Level'],\n",
              "      dtype='object')"
            ]
          },
          "metadata": {},
          "execution_count": 17
        }
      ]
    },
    {
      "cell_type": "code",
      "source": [
        "df_malnutrition"
      ],
      "metadata": {
        "colab": {
          "base_uri": "https://localhost:8080/",
          "height": 423
        },
        "id": "1HDyv7-WBIdd",
        "outputId": "f5ecd552-6fde-44ac-8e0e-91c77563c1d3"
      },
      "execution_count": 18,
      "outputs": [
        {
          "output_type": "execute_result",
          "data": {
            "text/plain": [
              "       Year Gender  Mean_Estimate  LowerBound  UpperBound           Region  \\\n",
              "2      2019   Both       2.413166    1.636416    3.386840           Europe   \n",
              "3      2013   Both       1.795959    0.859630    3.119794           Europe   \n",
              "11     2012   Both       2.958433    2.381179    3.626655           Europe   \n",
              "12     2020   Both       1.306920    0.638824    2.278281           Europe   \n",
              "13     2016   Both       0.626754    0.205233    1.391190  Western Pacific   \n",
              "...     ...    ...            ...         ...         ...              ...   \n",
              "83130  2017   Both       1.438479    1.025116    1.953028         Americas   \n",
              "83145  2020   Both       1.706102    1.308293    2.189923         Americas   \n",
              "83150  2015   Both       0.547159    0.086208    1.626195  Western Pacific   \n",
              "83156  2014   Both       0.906755    0.618054    1.273863           Europe   \n",
              "83157  2022   Both      12.202191    6.856583   18.733799  South-East Asia   \n",
              "\n",
              "                               Country age_group Country_Code   CI_Width  \\\n",
              "2                              Georgia     Adult          GEO   1.750424   \n",
              "3                               Cyprus     Adult          CYP   2.260164   \n",
              "11                             Denmark     Adult          DNK   1.245475   \n",
              "12                             Romania     Adult          ROU   1.639457   \n",
              "13                    French Polynesia     Adult          PYF   1.185956   \n",
              "...                                ...       ...          ...        ...   \n",
              "83130                          Uruguay     Child          URY   0.927912   \n",
              "83145                           Mexico     Child          MEX   0.881630   \n",
              "83150  Micronesia, Federated States of     Child          FSM   1.539987   \n",
              "83156                           Sweden     Child          SWE   0.655809   \n",
              "83157                            Nepal     Child          NPL  11.877216   \n",
              "\n",
              "      Malnutrition_Level  \n",
              "2                    Low  \n",
              "3                    Low  \n",
              "11                   Low  \n",
              "12                   Low  \n",
              "13                   Low  \n",
              "...                  ...  \n",
              "83130                Low  \n",
              "83145                Low  \n",
              "83150                Low  \n",
              "83156                Low  \n",
              "83157           Moderate  \n",
              "\n",
              "[26268 rows x 11 columns]"
            ],
            "text/html": [
              "\n",
              "  <div id=\"df-a384adaf-b441-479c-aa4b-0ff964e1cd39\" class=\"colab-df-container\">\n",
              "    <div>\n",
              "<style scoped>\n",
              "    .dataframe tbody tr th:only-of-type {\n",
              "        vertical-align: middle;\n",
              "    }\n",
              "\n",
              "    .dataframe tbody tr th {\n",
              "        vertical-align: top;\n",
              "    }\n",
              "\n",
              "    .dataframe thead th {\n",
              "        text-align: right;\n",
              "    }\n",
              "</style>\n",
              "<table border=\"1\" class=\"dataframe\">\n",
              "  <thead>\n",
              "    <tr style=\"text-align: right;\">\n",
              "      <th></th>\n",
              "      <th>Year</th>\n",
              "      <th>Gender</th>\n",
              "      <th>Mean_Estimate</th>\n",
              "      <th>LowerBound</th>\n",
              "      <th>UpperBound</th>\n",
              "      <th>Region</th>\n",
              "      <th>Country</th>\n",
              "      <th>age_group</th>\n",
              "      <th>Country_Code</th>\n",
              "      <th>CI_Width</th>\n",
              "      <th>Malnutrition_Level</th>\n",
              "    </tr>\n",
              "  </thead>\n",
              "  <tbody>\n",
              "    <tr>\n",
              "      <th>2</th>\n",
              "      <td>2019</td>\n",
              "      <td>Both</td>\n",
              "      <td>2.413166</td>\n",
              "      <td>1.636416</td>\n",
              "      <td>3.386840</td>\n",
              "      <td>Europe</td>\n",
              "      <td>Georgia</td>\n",
              "      <td>Adult</td>\n",
              "      <td>GEO</td>\n",
              "      <td>1.750424</td>\n",
              "      <td>Low</td>\n",
              "    </tr>\n",
              "    <tr>\n",
              "      <th>3</th>\n",
              "      <td>2013</td>\n",
              "      <td>Both</td>\n",
              "      <td>1.795959</td>\n",
              "      <td>0.859630</td>\n",
              "      <td>3.119794</td>\n",
              "      <td>Europe</td>\n",
              "      <td>Cyprus</td>\n",
              "      <td>Adult</td>\n",
              "      <td>CYP</td>\n",
              "      <td>2.260164</td>\n",
              "      <td>Low</td>\n",
              "    </tr>\n",
              "    <tr>\n",
              "      <th>11</th>\n",
              "      <td>2012</td>\n",
              "      <td>Both</td>\n",
              "      <td>2.958433</td>\n",
              "      <td>2.381179</td>\n",
              "      <td>3.626655</td>\n",
              "      <td>Europe</td>\n",
              "      <td>Denmark</td>\n",
              "      <td>Adult</td>\n",
              "      <td>DNK</td>\n",
              "      <td>1.245475</td>\n",
              "      <td>Low</td>\n",
              "    </tr>\n",
              "    <tr>\n",
              "      <th>12</th>\n",
              "      <td>2020</td>\n",
              "      <td>Both</td>\n",
              "      <td>1.306920</td>\n",
              "      <td>0.638824</td>\n",
              "      <td>2.278281</td>\n",
              "      <td>Europe</td>\n",
              "      <td>Romania</td>\n",
              "      <td>Adult</td>\n",
              "      <td>ROU</td>\n",
              "      <td>1.639457</td>\n",
              "      <td>Low</td>\n",
              "    </tr>\n",
              "    <tr>\n",
              "      <th>13</th>\n",
              "      <td>2016</td>\n",
              "      <td>Both</td>\n",
              "      <td>0.626754</td>\n",
              "      <td>0.205233</td>\n",
              "      <td>1.391190</td>\n",
              "      <td>Western Pacific</td>\n",
              "      <td>French Polynesia</td>\n",
              "      <td>Adult</td>\n",
              "      <td>PYF</td>\n",
              "      <td>1.185956</td>\n",
              "      <td>Low</td>\n",
              "    </tr>\n",
              "    <tr>\n",
              "      <th>...</th>\n",
              "      <td>...</td>\n",
              "      <td>...</td>\n",
              "      <td>...</td>\n",
              "      <td>...</td>\n",
              "      <td>...</td>\n",
              "      <td>...</td>\n",
              "      <td>...</td>\n",
              "      <td>...</td>\n",
              "      <td>...</td>\n",
              "      <td>...</td>\n",
              "      <td>...</td>\n",
              "    </tr>\n",
              "    <tr>\n",
              "      <th>83130</th>\n",
              "      <td>2017</td>\n",
              "      <td>Both</td>\n",
              "      <td>1.438479</td>\n",
              "      <td>1.025116</td>\n",
              "      <td>1.953028</td>\n",
              "      <td>Americas</td>\n",
              "      <td>Uruguay</td>\n",
              "      <td>Child</td>\n",
              "      <td>URY</td>\n",
              "      <td>0.927912</td>\n",
              "      <td>Low</td>\n",
              "    </tr>\n",
              "    <tr>\n",
              "      <th>83145</th>\n",
              "      <td>2020</td>\n",
              "      <td>Both</td>\n",
              "      <td>1.706102</td>\n",
              "      <td>1.308293</td>\n",
              "      <td>2.189923</td>\n",
              "      <td>Americas</td>\n",
              "      <td>Mexico</td>\n",
              "      <td>Child</td>\n",
              "      <td>MEX</td>\n",
              "      <td>0.881630</td>\n",
              "      <td>Low</td>\n",
              "    </tr>\n",
              "    <tr>\n",
              "      <th>83150</th>\n",
              "      <td>2015</td>\n",
              "      <td>Both</td>\n",
              "      <td>0.547159</td>\n",
              "      <td>0.086208</td>\n",
              "      <td>1.626195</td>\n",
              "      <td>Western Pacific</td>\n",
              "      <td>Micronesia, Federated States of</td>\n",
              "      <td>Child</td>\n",
              "      <td>FSM</td>\n",
              "      <td>1.539987</td>\n",
              "      <td>Low</td>\n",
              "    </tr>\n",
              "    <tr>\n",
              "      <th>83156</th>\n",
              "      <td>2014</td>\n",
              "      <td>Both</td>\n",
              "      <td>0.906755</td>\n",
              "      <td>0.618054</td>\n",
              "      <td>1.273863</td>\n",
              "      <td>Europe</td>\n",
              "      <td>Sweden</td>\n",
              "      <td>Child</td>\n",
              "      <td>SWE</td>\n",
              "      <td>0.655809</td>\n",
              "      <td>Low</td>\n",
              "    </tr>\n",
              "    <tr>\n",
              "      <th>83157</th>\n",
              "      <td>2022</td>\n",
              "      <td>Both</td>\n",
              "      <td>12.202191</td>\n",
              "      <td>6.856583</td>\n",
              "      <td>18.733799</td>\n",
              "      <td>South-East Asia</td>\n",
              "      <td>Nepal</td>\n",
              "      <td>Child</td>\n",
              "      <td>NPL</td>\n",
              "      <td>11.877216</td>\n",
              "      <td>Moderate</td>\n",
              "    </tr>\n",
              "  </tbody>\n",
              "</table>\n",
              "<p>26268 rows × 11 columns</p>\n",
              "</div>\n",
              "    <div class=\"colab-df-buttons\">\n",
              "\n",
              "  <div class=\"colab-df-container\">\n",
              "    <button class=\"colab-df-convert\" onclick=\"convertToInteractive('df-a384adaf-b441-479c-aa4b-0ff964e1cd39')\"\n",
              "            title=\"Convert this dataframe to an interactive table.\"\n",
              "            style=\"display:none;\">\n",
              "\n",
              "  <svg xmlns=\"http://www.w3.org/2000/svg\" height=\"24px\" viewBox=\"0 -960 960 960\">\n",
              "    <path d=\"M120-120v-720h720v720H120Zm60-500h600v-160H180v160Zm220 220h160v-160H400v160Zm0 220h160v-160H400v160ZM180-400h160v-160H180v160Zm440 0h160v-160H620v160ZM180-180h160v-160H180v160Zm440 0h160v-160H620v160Z\"/>\n",
              "  </svg>\n",
              "    </button>\n",
              "\n",
              "  <style>\n",
              "    .colab-df-container {\n",
              "      display:flex;\n",
              "      gap: 12px;\n",
              "    }\n",
              "\n",
              "    .colab-df-convert {\n",
              "      background-color: #E8F0FE;\n",
              "      border: none;\n",
              "      border-radius: 50%;\n",
              "      cursor: pointer;\n",
              "      display: none;\n",
              "      fill: #1967D2;\n",
              "      height: 32px;\n",
              "      padding: 0 0 0 0;\n",
              "      width: 32px;\n",
              "    }\n",
              "\n",
              "    .colab-df-convert:hover {\n",
              "      background-color: #E2EBFA;\n",
              "      box-shadow: 0px 1px 2px rgba(60, 64, 67, 0.3), 0px 1px 3px 1px rgba(60, 64, 67, 0.15);\n",
              "      fill: #174EA6;\n",
              "    }\n",
              "\n",
              "    .colab-df-buttons div {\n",
              "      margin-bottom: 4px;\n",
              "    }\n",
              "\n",
              "    [theme=dark] .colab-df-convert {\n",
              "      background-color: #3B4455;\n",
              "      fill: #D2E3FC;\n",
              "    }\n",
              "\n",
              "    [theme=dark] .colab-df-convert:hover {\n",
              "      background-color: #434B5C;\n",
              "      box-shadow: 0px 1px 3px 1px rgba(0, 0, 0, 0.15);\n",
              "      filter: drop-shadow(0px 1px 2px rgba(0, 0, 0, 0.3));\n",
              "      fill: #FFFFFF;\n",
              "    }\n",
              "  </style>\n",
              "\n",
              "    <script>\n",
              "      const buttonEl =\n",
              "        document.querySelector('#df-a384adaf-b441-479c-aa4b-0ff964e1cd39 button.colab-df-convert');\n",
              "      buttonEl.style.display =\n",
              "        google.colab.kernel.accessAllowed ? 'block' : 'none';\n",
              "\n",
              "      async function convertToInteractive(key) {\n",
              "        const element = document.querySelector('#df-a384adaf-b441-479c-aa4b-0ff964e1cd39');\n",
              "        const dataTable =\n",
              "          await google.colab.kernel.invokeFunction('convertToInteractive',\n",
              "                                                    [key], {});\n",
              "        if (!dataTable) return;\n",
              "\n",
              "        const docLinkHtml = 'Like what you see? Visit the ' +\n",
              "          '<a target=\"_blank\" href=https://colab.research.google.com/notebooks/data_table.ipynb>data table notebook</a>'\n",
              "          + ' to learn more about interactive tables.';\n",
              "        element.innerHTML = '';\n",
              "        dataTable['output_type'] = 'display_data';\n",
              "        await google.colab.output.renderOutput(dataTable, element);\n",
              "        const docLink = document.createElement('div');\n",
              "        docLink.innerHTML = docLinkHtml;\n",
              "        element.appendChild(docLink);\n",
              "      }\n",
              "    </script>\n",
              "  </div>\n",
              "\n",
              "\n",
              "    <div id=\"df-2c09b24a-505f-4431-ac18-bf66ec5bd8bf\">\n",
              "      <button class=\"colab-df-quickchart\" onclick=\"quickchart('df-2c09b24a-505f-4431-ac18-bf66ec5bd8bf')\"\n",
              "                title=\"Suggest charts\"\n",
              "                style=\"display:none;\">\n",
              "\n",
              "<svg xmlns=\"http://www.w3.org/2000/svg\" height=\"24px\"viewBox=\"0 0 24 24\"\n",
              "     width=\"24px\">\n",
              "    <g>\n",
              "        <path d=\"M19 3H5c-1.1 0-2 .9-2 2v14c0 1.1.9 2 2 2h14c1.1 0 2-.9 2-2V5c0-1.1-.9-2-2-2zM9 17H7v-7h2v7zm4 0h-2V7h2v10zm4 0h-2v-4h2v4z\"/>\n",
              "    </g>\n",
              "</svg>\n",
              "      </button>\n",
              "\n",
              "<style>\n",
              "  .colab-df-quickchart {\n",
              "      --bg-color: #E8F0FE;\n",
              "      --fill-color: #1967D2;\n",
              "      --hover-bg-color: #E2EBFA;\n",
              "      --hover-fill-color: #174EA6;\n",
              "      --disabled-fill-color: #AAA;\n",
              "      --disabled-bg-color: #DDD;\n",
              "  }\n",
              "\n",
              "  [theme=dark] .colab-df-quickchart {\n",
              "      --bg-color: #3B4455;\n",
              "      --fill-color: #D2E3FC;\n",
              "      --hover-bg-color: #434B5C;\n",
              "      --hover-fill-color: #FFFFFF;\n",
              "      --disabled-bg-color: #3B4455;\n",
              "      --disabled-fill-color: #666;\n",
              "  }\n",
              "\n",
              "  .colab-df-quickchart {\n",
              "    background-color: var(--bg-color);\n",
              "    border: none;\n",
              "    border-radius: 50%;\n",
              "    cursor: pointer;\n",
              "    display: none;\n",
              "    fill: var(--fill-color);\n",
              "    height: 32px;\n",
              "    padding: 0;\n",
              "    width: 32px;\n",
              "  }\n",
              "\n",
              "  .colab-df-quickchart:hover {\n",
              "    background-color: var(--hover-bg-color);\n",
              "    box-shadow: 0 1px 2px rgba(60, 64, 67, 0.3), 0 1px 3px 1px rgba(60, 64, 67, 0.15);\n",
              "    fill: var(--button-hover-fill-color);\n",
              "  }\n",
              "\n",
              "  .colab-df-quickchart-complete:disabled,\n",
              "  .colab-df-quickchart-complete:disabled:hover {\n",
              "    background-color: var(--disabled-bg-color);\n",
              "    fill: var(--disabled-fill-color);\n",
              "    box-shadow: none;\n",
              "  }\n",
              "\n",
              "  .colab-df-spinner {\n",
              "    border: 2px solid var(--fill-color);\n",
              "    border-color: transparent;\n",
              "    border-bottom-color: var(--fill-color);\n",
              "    animation:\n",
              "      spin 1s steps(1) infinite;\n",
              "  }\n",
              "\n",
              "  @keyframes spin {\n",
              "    0% {\n",
              "      border-color: transparent;\n",
              "      border-bottom-color: var(--fill-color);\n",
              "      border-left-color: var(--fill-color);\n",
              "    }\n",
              "    20% {\n",
              "      border-color: transparent;\n",
              "      border-left-color: var(--fill-color);\n",
              "      border-top-color: var(--fill-color);\n",
              "    }\n",
              "    30% {\n",
              "      border-color: transparent;\n",
              "      border-left-color: var(--fill-color);\n",
              "      border-top-color: var(--fill-color);\n",
              "      border-right-color: var(--fill-color);\n",
              "    }\n",
              "    40% {\n",
              "      border-color: transparent;\n",
              "      border-right-color: var(--fill-color);\n",
              "      border-top-color: var(--fill-color);\n",
              "    }\n",
              "    60% {\n",
              "      border-color: transparent;\n",
              "      border-right-color: var(--fill-color);\n",
              "    }\n",
              "    80% {\n",
              "      border-color: transparent;\n",
              "      border-right-color: var(--fill-color);\n",
              "      border-bottom-color: var(--fill-color);\n",
              "    }\n",
              "    90% {\n",
              "      border-color: transparent;\n",
              "      border-bottom-color: var(--fill-color);\n",
              "    }\n",
              "  }\n",
              "</style>\n",
              "\n",
              "      <script>\n",
              "        async function quickchart(key) {\n",
              "          const quickchartButtonEl =\n",
              "            document.querySelector('#' + key + ' button');\n",
              "          quickchartButtonEl.disabled = true;  // To prevent multiple clicks.\n",
              "          quickchartButtonEl.classList.add('colab-df-spinner');\n",
              "          try {\n",
              "            const charts = await google.colab.kernel.invokeFunction(\n",
              "                'suggestCharts', [key], {});\n",
              "          } catch (error) {\n",
              "            console.error('Error during call to suggestCharts:', error);\n",
              "          }\n",
              "          quickchartButtonEl.classList.remove('colab-df-spinner');\n",
              "          quickchartButtonEl.classList.add('colab-df-quickchart-complete');\n",
              "        }\n",
              "        (() => {\n",
              "          let quickchartButtonEl =\n",
              "            document.querySelector('#df-2c09b24a-505f-4431-ac18-bf66ec5bd8bf button');\n",
              "          quickchartButtonEl.style.display =\n",
              "            google.colab.kernel.accessAllowed ? 'block' : 'none';\n",
              "        })();\n",
              "      </script>\n",
              "    </div>\n",
              "\n",
              "  <div id=\"id_ae8f2d7a-9bf9-4823-8f83-d40603494005\">\n",
              "    <style>\n",
              "      .colab-df-generate {\n",
              "        background-color: #E8F0FE;\n",
              "        border: none;\n",
              "        border-radius: 50%;\n",
              "        cursor: pointer;\n",
              "        display: none;\n",
              "        fill: #1967D2;\n",
              "        height: 32px;\n",
              "        padding: 0 0 0 0;\n",
              "        width: 32px;\n",
              "      }\n",
              "\n",
              "      .colab-df-generate:hover {\n",
              "        background-color: #E2EBFA;\n",
              "        box-shadow: 0px 1px 2px rgba(60, 64, 67, 0.3), 0px 1px 3px 1px rgba(60, 64, 67, 0.15);\n",
              "        fill: #174EA6;\n",
              "      }\n",
              "\n",
              "      [theme=dark] .colab-df-generate {\n",
              "        background-color: #3B4455;\n",
              "        fill: #D2E3FC;\n",
              "      }\n",
              "\n",
              "      [theme=dark] .colab-df-generate:hover {\n",
              "        background-color: #434B5C;\n",
              "        box-shadow: 0px 1px 3px 1px rgba(0, 0, 0, 0.15);\n",
              "        filter: drop-shadow(0px 1px 2px rgba(0, 0, 0, 0.3));\n",
              "        fill: #FFFFFF;\n",
              "      }\n",
              "    </style>\n",
              "    <button class=\"colab-df-generate\" onclick=\"generateWithVariable('df_malnutrition')\"\n",
              "            title=\"Generate code using this dataframe.\"\n",
              "            style=\"display:none;\">\n",
              "\n",
              "  <svg xmlns=\"http://www.w3.org/2000/svg\" height=\"24px\"viewBox=\"0 0 24 24\"\n",
              "       width=\"24px\">\n",
              "    <path d=\"M7,19H8.4L18.45,9,17,7.55,7,17.6ZM5,21V16.75L18.45,3.32a2,2,0,0,1,2.83,0l1.4,1.43a1.91,1.91,0,0,1,.58,1.4,1.91,1.91,0,0,1-.58,1.4L9.25,21ZM18.45,9,17,7.55Zm-12,3A5.31,5.31,0,0,0,4.9,8.1,5.31,5.31,0,0,0,1,6.5,5.31,5.31,0,0,0,4.9,4.9,5.31,5.31,0,0,0,6.5,1,5.31,5.31,0,0,0,8.1,4.9,5.31,5.31,0,0,0,12,6.5,5.46,5.46,0,0,0,6.5,12Z\"/>\n",
              "  </svg>\n",
              "    </button>\n",
              "    <script>\n",
              "      (() => {\n",
              "      const buttonEl =\n",
              "        document.querySelector('#id_ae8f2d7a-9bf9-4823-8f83-d40603494005 button.colab-df-generate');\n",
              "      buttonEl.style.display =\n",
              "        google.colab.kernel.accessAllowed ? 'block' : 'none';\n",
              "\n",
              "      buttonEl.onclick = () => {\n",
              "        google.colab.notebook.generateWithVariable('df_malnutrition');\n",
              "      }\n",
              "      })();\n",
              "    </script>\n",
              "  </div>\n",
              "\n",
              "    </div>\n",
              "  </div>\n"
            ],
            "application/vnd.google.colaboratory.intrinsic+json": {
              "type": "dataframe",
              "variable_name": "df_malnutrition",
              "summary": "{\n  \"name\": \"df_malnutrition\",\n  \"rows\": 26268,\n  \"fields\": [\n    {\n      \"column\": \"Year\",\n      \"properties\": {\n        \"dtype\": \"number\",\n        \"std\": 3,\n        \"min\": 2012,\n        \"max\": 2022,\n        \"num_unique_values\": 11,\n        \"samples\": [\n          2021,\n          2019,\n          2022\n        ],\n        \"semantic_type\": \"\",\n        \"description\": \"\"\n      }\n    },\n    {\n      \"column\": \"Gender\",\n      \"properties\": {\n        \"dtype\": \"category\",\n        \"num_unique_values\": 1,\n        \"samples\": [\n          \"Both\"\n        ],\n        \"semantic_type\": \"\",\n        \"description\": \"\"\n      }\n    },\n    {\n      \"column\": \"Mean_Estimate\",\n      \"properties\": {\n        \"dtype\": \"number\",\n        \"std\": 4.698052578097763,\n        \"min\": 0.17530927,\n        \"max\": 35.894114,\n        \"num_unique_values\": 26255,\n        \"samples\": [\n          1.3449606\n        ],\n        \"semantic_type\": \"\",\n        \"description\": \"\"\n      }\n    },\n    {\n      \"column\": \"LowerBound\",\n      \"properties\": {\n        \"dtype\": \"number\",\n        \"std\": 3.670589878024853,\n        \"min\": 0.023702646,\n        \"max\": 31.365401,\n        \"num_unique_values\": 26261,\n        \"samples\": [\n          1.3201944\n        ],\n        \"semantic_type\": \"\",\n        \"description\": \"\"\n      }\n    },\n    {\n      \"column\": \"UpperBound\",\n      \"properties\": {\n        \"dtype\": \"number\",\n        \"std\": 6.4555174293238125,\n        \"min\": 0.35483334,\n        \"max\": 43.680286,\n        \"num_unique_values\": 26254,\n        \"samples\": [\n          3.5126634\n        ],\n        \"semantic_type\": \"\",\n        \"description\": \"\"\n      }\n    },\n    {\n      \"column\": \"Region\",\n      \"properties\": {\n        \"dtype\": \"category\",\n        \"num_unique_values\": 6,\n        \"samples\": [\n          \"Europe\"\n        ],\n        \"semantic_type\": \"\",\n        \"description\": \"\"\n      }\n    },\n    {\n      \"column\": \"Country\",\n      \"properties\": {\n        \"dtype\": \"category\",\n        \"num_unique_values\": 199,\n        \"samples\": [\n          \"Guinea-Bissau\"\n        ],\n        \"semantic_type\": \"\",\n        \"description\": \"\"\n      }\n    },\n    {\n      \"column\": \"age_group\",\n      \"properties\": {\n        \"dtype\": \"category\",\n        \"num_unique_values\": 2,\n        \"samples\": [\n          \"Child\"\n        ],\n        \"semantic_type\": \"\",\n        \"description\": \"\"\n      }\n    },\n    {\n      \"column\": \"Country_Code\",\n      \"properties\": {\n        \"dtype\": \"category\",\n        \"num_unique_values\": 199,\n        \"samples\": [\n          \"GNB\"\n        ],\n        \"semantic_type\": \"\",\n        \"description\": \"\"\n      }\n    },\n    {\n      \"column\": \"CI_Width\",\n      \"properties\": {\n        \"dtype\": \"number\",\n        \"std\": 4.296396591331765,\n        \"min\": 0.16667904,\n        \"max\": 26.701743599999997,\n        \"num_unique_values\": 26266,\n        \"samples\": [\n          2.6936120000000017\n        ],\n        \"semantic_type\": \"\",\n        \"description\": \"\"\n      }\n    },\n    {\n      \"column\": \"Malnutrition_Level\",\n      \"properties\": {\n        \"dtype\": \"category\",\n        \"num_unique_values\": 3,\n        \"samples\": [\n          \"Low\"\n        ],\n        \"semantic_type\": \"\",\n        \"description\": \"\"\n      }\n    }\n  ]\n}"
            }
          },
          "metadata": {},
          "execution_count": 18
        }
      ]
    },
    {
      "cell_type": "markdown",
      "source": [
        "# **Step 3:**\n",
        "**A: Quick Data Overview**"
      ],
      "metadata": {
        "id": "2NPtWbHX6_x7"
      }
    },
    {
      "cell_type": "code",
      "source": [
        "print(\"Obesity Dataset\")\n",
        "print(df_obesity.info())\n",
        "print(df_obesity.describe())\n",
        "print(df_obesity['Region'].value_counts())\n",
        "\n",
        "print(\"\\n\\nMalnutrition Dataset\")\n",
        "print(df_malnutrition.info())\n",
        "print(df_malnutrition.describe())\n",
        "print(df_malnutrition['Region'].value_counts())"
      ],
      "metadata": {
        "colab": {
          "base_uri": "https://localhost:8080/"
        },
        "id": "7RlXXt3L6yI6",
        "outputId": "45e7f96d-4df0-4594-accc-96c6ea42f505"
      },
      "execution_count": 19,
      "outputs": [
        {
          "output_type": "stream",
          "name": "stdout",
          "text": [
            "Obesity Dataset\n",
            "<class 'pandas.core.frame.DataFrame'>\n",
            "Index: 26268 entries, 1 to 83159\n",
            "Data columns (total 11 columns):\n",
            " #   Column         Non-Null Count  Dtype  \n",
            "---  ------         --------------  -----  \n",
            " 0   Year           26268 non-null  int64  \n",
            " 1   Gender         26268 non-null  object \n",
            " 2   Mean_Estimate  26268 non-null  float64\n",
            " 3   LowerBound     26268 non-null  float64\n",
            " 4   UpperBound     26268 non-null  float64\n",
            " 5   Region         26268 non-null  object \n",
            " 6   Country        26268 non-null  object \n",
            " 7   age_group      26268 non-null  object \n",
            " 8   Country_Code   26268 non-null  object \n",
            " 9   CI_Width       26268 non-null  float64\n",
            " 10  Obesity_Level  26268 non-null  object \n",
            "dtypes: float64(4), int64(1), object(6)\n",
            "memory usage: 2.4+ MB\n",
            "None\n",
            "               Year  Mean_Estimate    LowerBound    UpperBound      CI_Width\n",
            "count  26268.000000   26268.000000  26268.000000  26268.000000  26268.000000\n",
            "mean    2017.000000      12.927995      9.412972     17.431052      8.018080\n",
            "std        3.162338      11.019104     10.044619     12.531875      6.626472\n",
            "min     2012.000000       0.265672      0.077541      0.547848      0.216695\n",
            "25%     2014.000000       4.756484      2.217401      8.100430      3.230990\n",
            "50%     2017.000000      10.087730      6.442317     14.101948      5.822064\n",
            "75%     2020.000000      17.844239     12.766003     24.494864     10.760358\n",
            "max     2022.000000      80.609250     74.365371     87.868512     40.554062\n",
            "Region\n",
            "Europe                   6864\n",
            "Africa                   6204\n",
            "Americas                 4884\n",
            "Western Pacific          3960\n",
            "Eastern Mediterranean    2904\n",
            "South-East Asia          1452\n",
            "Name: count, dtype: int64\n",
            "\n",
            "\n",
            "Malnutrition Dataset\n",
            "<class 'pandas.core.frame.DataFrame'>\n",
            "Index: 26268 entries, 2 to 83157\n",
            "Data columns (total 11 columns):\n",
            " #   Column              Non-Null Count  Dtype  \n",
            "---  ------              --------------  -----  \n",
            " 0   Year                26268 non-null  int64  \n",
            " 1   Gender              26268 non-null  object \n",
            " 2   Mean_Estimate       26268 non-null  float64\n",
            " 3   LowerBound          26268 non-null  float64\n",
            " 4   UpperBound          26268 non-null  float64\n",
            " 5   Region              26268 non-null  object \n",
            " 6   Country             26268 non-null  object \n",
            " 7   age_group           26268 non-null  object \n",
            " 8   Country_Code        26268 non-null  object \n",
            " 9   CI_Width            26268 non-null  float64\n",
            " 10  Malnutrition_Level  26268 non-null  object \n",
            "dtypes: float64(4), int64(1), object(6)\n",
            "memory usage: 2.4+ MB\n",
            "None\n",
            "               Year  Mean_Estimate    LowerBound    UpperBound      CI_Width\n",
            "count  26268.000000   26268.000000  26268.000000  26268.000000  26268.000000\n",
            "mean    2017.000000       5.188636      3.164316      8.092751      4.928435\n",
            "std        3.162338       4.698053      3.670590      6.455517      4.296397\n",
            "min     2012.000000       0.175309      0.023703      0.354833      0.166679\n",
            "25%     2014.000000       1.990625      1.008065      3.138790      1.719435\n",
            "50%     2017.000000       3.485206      1.814144      6.028529      3.586019\n",
            "75%     2020.000000       6.980642      3.870279     11.408043      6.792857\n",
            "max     2022.000000      35.894114     31.365401     43.680286     26.701744\n",
            "Region\n",
            "Europe                   6864\n",
            "Africa                   6204\n",
            "Americas                 4884\n",
            "Western Pacific          3960\n",
            "Eastern Mediterranean    2904\n",
            "South-East Asia          1452\n",
            "Name: count, dtype: int64\n"
          ]
        }
      ]
    },
    {
      "cell_type": "markdown",
      "source": [
        "**B: Obesity Trend Over Years (Global Avg)**"
      ],
      "metadata": {
        "id": "e2oJx03r7q50"
      }
    },
    {
      "cell_type": "code",
      "source": [
        "import seaborn as sns\n",
        "import matplotlib.pyplot as plt\n",
        "\n",
        "plt.figure(figsize=(10, 5))\n",
        "global_obesity = df_obesity.groupby('Year')['Mean_Estimate'].mean().reset_index()\n",
        "sns.lineplot(data=global_obesity, x='Year', y='Mean_Estimate', marker='o')\n",
        "plt.title(\"Global Average Obesity Trend (2012–2022)\")\n",
        "plt.ylabel(\"Mean Estimate (%)\")\n",
        "plt.grid()\n",
        "plt.show()"
      ],
      "metadata": {
        "colab": {
          "base_uri": "https://localhost:8080/",
          "height": 487
        },
        "id": "TVtH0K_V7P3I",
        "outputId": "ec073b59-9e25-4bb4-dfaa-619b1c11201f",
        "collapsed": true
      },
      "execution_count": 20,
      "outputs": [
        {
          "output_type": "display_data",
          "data": {
            "text/plain": [
              "<Figure size 1000x500 with 1 Axes>"
            ],
            "image/png": "[encoded data removed]"
          },
          "metadata": {}
        }
      ]
    },
    {
      "cell_type": "markdown",
      "source": [
        "C: Malnutrition Trend Over Years (Global Avg)"
      ],
      "metadata": {
        "id": "9mxLW8GT8LeT"
      }
    },
    {
      "cell_type": "code",
      "source": [
        "plt.figure(figsize=(10, 5))\n",
        "global_malnutrition = df_malnutrition.groupby('Year')['Mean_Estimate'].mean().reset_index()\n",
        "sns.lineplot(data=global_malnutrition, x='Year', y='Mean_Estimate', marker='o', color='orange')\n",
        "plt.title(\"Global Average Malnutrition Trend (2012–2022)\")\n",
        "plt.ylabel(\"Mean Estimate (%)\")\n",
        "plt.grid()\n",
        "plt.show()"
      ],
      "metadata": {
        "colab": {
          "base_uri": "https://localhost:8080/",
          "height": 487
        },
        "id": "-Qoh083w8Lpk",
        "outputId": "57f72570-ede7-480f-d793-e64752c73f04",
        "collapsed": true
      },
      "execution_count": 67,
      "outputs": [
        {
          "output_type": "display_data",
          "data": {
            "text/plain": [
              "<Figure size 1000x500 with 1 Axes>"
            ],
            "image/png": "[encoded data removed]"
          },
          "metadata": {}
        }
      ]
    },
    {
      "cell_type": "markdown",
      "source": [
        "**D: Gender-Based Average Comparison (Obesity vs Malnutrition)**"
      ],
      "metadata": {
        "id": "dVGQGEk57ywq"
      }
    },
    {
      "cell_type": "code",
      "source": [
        "ob_gender_avg = df_obesity.groupby('Gender')['Mean_Estimate'].mean().reset_index()\n",
        "mal_gender_avg = df_malnutrition.groupby('Gender')['Mean_Estimate'].mean().reset_index()\n",
        "\n",
        "fig, ax = plt.subplots(1, 2, figsize=(12, 5))\n",
        "\n",
        "sns.barplot(data=ob_gender_avg, x='Gender', y='Mean_Estimate', ax=ax[0])\n",
        "ax[0].set_title(\"Average Obesity by Gender\")\n",
        "\n",
        "sns.barplot(data=mal_gender_avg, x='Gender', y='Mean_Estimate', ax=ax[1], palette='autumn')\n",
        "ax[1].set_title(\"Average Malnutrition by Gender\")\n",
        "\n",
        "plt.show()"
      ],
      "metadata": {
        "colab": {
          "base_uri": "https://localhost:8080/",
          "height": 574
        },
        "id": "Fw1h3qE-7v7m",
        "outputId": "33181e47-5749-4e1f-fbad-0ee3b6a1037d",
        "collapsed": true
      },
      "execution_count": 68,
      "outputs": [
        {
          "output_type": "stream",
          "name": "stderr",
          "text": [
            "/tmp/ipython-input-68-1594804512.py:9: FutureWarning: \n",
            "\n",
            "Passing `palette` without assigning `hue` is deprecated and will be removed in v0.14.0. Assign the `x` variable to `hue` and set `legend=False` for the same effect.\n",
            "\n",
            "  sns.barplot(data=mal_gender_avg, x='Gender', y='Mean_Estimate', ax=ax[1], palette='autumn')\n"
          ]
        },
        {
          "output_type": "display_data",
          "data": {
            "text/plain": [
              "<Figure size 1200x500 with 2 Axes>"
            ],
            "image/png": "[encoded data removed]"
          },
          "metadata": {}
        }
      ]
    },
    {
      "cell_type": "markdown",
      "source": [
        "**E: Regional Variability– Boxplot by Region (Obesity)**"
      ],
      "metadata": {
        "id": "nAJ7MOLS8p9V"
      }
    },
    {
      "cell_type": "code",
      "source": [
        "plt.figure(figsize=(14, 6))\n",
        "sns.boxplot(data=df_obesity, x='Region', y='Mean_Estimate')\n",
        "plt.title(\"Obesity Distribution by Region\")\n",
        "plt.xticks(rotation=45)\n",
        "plt.grid()\n",
        "plt.show()"
      ],
      "metadata": {
        "colab": {
          "base_uri": "https://localhost:8080/",
          "height": 672
        },
        "id": "eP2v-sqV8nkA",
        "outputId": "f3e767c9-3eb2-47fb-adf6-e8f6fdc48dd8",
        "collapsed": true
      },
      "execution_count": 69,
      "outputs": [
        {
          "output_type": "display_data",
          "data": {
            "text/plain": [
              "<Figure size 1400x600 with 1 Axes>"
            ],
            "image/png": "[encoded data removed]"
          },
          "metadata": {}
        }
      ]
    },
    {
      "cell_type": "markdown",
      "source": [
        "**F: Age Group Comparison– Obesity & Malnutrition**"
      ],
      "metadata": {
        "id": "VZiq95XS80UY"
      }
    },
    {
      "cell_type": "code",
      "source": [
        "fig,ax= plt.subplots(1, 2, figsize=(12, 5))\n",
        "sns.boxplot(data=df_obesity, x='age_group', y='Mean_Estimate', ax=ax[0])\n",
        "ax[0].set_title(\"Obesity by Age Group\")\n",
        "\n",
        "sns.boxplot(data=df_malnutrition, x='age_group', y='Mean_Estimate', ax=ax[1], palette='coolwarm')\n",
        "ax[1].set_title(\"Malnutrition by Age Group\")\n",
        "\n",
        "plt.tight_layout()\n",
        "plt.show()"
      ],
      "metadata": {
        "colab": {
          "base_uri": "https://localhost:8080/",
          "height": 594
        },
        "id": "udMzoMGm8x5P",
        "outputId": "289d8354-d1a1-4f22-cd45-1b7f26d63aa2",
        "collapsed": true
      },
      "execution_count": 70,
      "outputs": [
        {
          "output_type": "stream",
          "name": "stderr",
          "text": [
            "/tmp/ipython-input-70-122641509.py:5: FutureWarning: \n",
            "\n",
            "Passing `palette` without assigning `hue` is deprecated and will be removed in v0.14.0. Assign the `x` variable to `hue` and set `legend=False` for the same effect.\n",
            "\n",
            "  sns.boxplot(data=df_malnutrition, x='age_group', y='Mean_Estimate', ax=ax[1], palette='coolwarm')\n"
          ]
        },
        {
          "output_type": "display_data",
          "data": {
            "text/plain": [
              "<Figure size 1200x500 with 2 Axes>"
            ],
            "image/png": "[encoded data removed]"
          },
          "metadata": {}
        }
      ]
    },
    {
      "cell_type": "markdown",
      "source": [
        "**G: Heatmap of CI_Width by Region & Year**"
      ],
      "metadata": {
        "id": "cvKHsHdo9-jR"
      }
    },
    {
      "cell_type": "code",
      "source": [
        "#Pivot the data: Region as rows, Year as columns\n",
        "heatmap_data= df_obesity.pivot_table(values='CI_Width', index='Region', columns='Year', aggfunc='mean')\n",
        "\n",
        "plt.figure(figsize=(12, 6))\n",
        "sns.heatmap(heatmap_data, annot=True, fmt=\".2f\", cmap=\"YlGnBu\", linewidths=0.5)\n",
        "plt.title(\"Average CI Width by Region and Year (Obesity Data)\")\n",
        "plt.ylabel(\"WHO Region\")\n",
        "plt.xlabel(\"Year\")\n",
        "plt.show()"
      ],
      "metadata": {
        "colab": {
          "base_uri": "https://localhost:8080/",
          "height": 564
        },
        "id": "X9eVQf9Y9-Lr",
        "outputId": "f6233b05-4fe8-488a-ed57-c456d2db6ca0",
        "collapsed": true
      },
      "execution_count": 71,
      "outputs": [
        {
          "output_type": "display_data",
          "data": {
            "text/plain": [
              "<Figure size 1200x600 with 2 Axes>"
            ],
            "image/png": "[encoded data removed]"
          },
          "metadata": {}
        }
      ]
    },
    {
      "cell_type": "markdown",
      "source": [
        "**H: Scatter Plot: Obesity vs Malnutrition (Merged by Country-Year)**\n",
        "\n",
        "*(shows countries where obesity & malnutrition coexist)*"
      ],
      "metadata": {
        "id": "xkm5P_DG-bBh"
      }
    },
    {
      "cell_type": "code",
      "source": [
        "#Merge datasets based on Country,year,gender and age group\n",
        "merge_cols= ['Country', 'Year', 'Gender', 'age_group']\n",
        "\n",
        "merged= pd.merge(\n",
        "    df_obesity[merge_cols + ['Mean_Estimate']],\n",
        "    df_malnutrition[merge_cols + ['Mean_Estimate']],\n",
        "    on=merge_cols,\n",
        "    suffixes=('_Obesity', '_Malnutrition'))\n",
        "plt.figure(figsize=(8, 6))\n",
        "sns.scatterplot(data=merged, x='Mean_Estimate_Obesity', y='Mean_Estimate_Malnutrition', hue='age_group')\n",
        "plt.title(\"Obesity vs Malnutrition per Country-Year\")\n",
        "plt.xlabel(\"Obesity(%)\")\n",
        "plt.ylabel(\"Malnutrition(%)\")\n",
        "plt.grid()\n",
        "plt.show()"
      ],
      "metadata": {
        "id": "ItFlIKB6-aTQ"
      },
      "execution_count": null,
      "outputs": []
    },
    {
      "cell_type": "markdown",
      "source": [
        "**I: Countries with Extreme CI_Width**\n",
        "\n",
        "*(Outliers in reliability)*"
      ],
      "metadata": {
        "id": "i_IfAVAK_a2J"
      }
    },
    {
      "cell_type": "code",
      "source": [
        "#Group by Country, average CI Width\n",
        "ci_summary=df_obesity.groupby('Country')['CI_Width'].mean().reset_index()\n",
        "#Top 10 highest CI width\n",
        "high_ci= ci_summary.sort_values('CI_Width', ascending=False).head(10)\n",
        "print(\"Top 10 Countries with Highest Average CI Width (Obesity):\")\n",
        "print(high_ci)\n",
        "#Top 10 lowest CI width\n",
        "low_ci= ci_summary.sort_values('CI_Width').head(10)\n",
        "print(\"\\nTop 10 Countries with Lowest Average CI Width (Obesity):\")\n",
        "print(low_ci)"
      ],
      "metadata": {
        "colab": {
          "base_uri": "https://localhost:8080/"
        },
        "id": "LwkkKssm_SYU",
        "outputId": "a90182b6-6924-455f-d0ce-77393585fab8"
      },
      "execution_count": null,
      "outputs": [
        {
          "output_type": "stream",
          "name": "stdout",
          "text": [
            "Top 10 Countries with Highest Average CI Width (Obesity):\n",
            "                  Country   CI_Width\n",
            "20                Bermuda  24.593417\n",
            "3          American Samoa  23.113530\n",
            "6     Antigua and Barbuda  22.016214\n",
            "145           Puerto Rico  21.698679\n",
            "72                Grenada  21.458487\n",
            "170              Suriname  20.596436\n",
            "179               Tokelau  20.451204\n",
            "173  Syrian Arab Republic  20.157261\n",
            "4                 Andorra  18.210110\n",
            "153                 Samoa  18.115278\n",
            "\n",
            "Top 10 Countries with Lowest Average CI Width (Obesity):\n",
            "                Country  CI_Width\n",
            "81                India  1.140133\n",
            "89                Japan  1.155903\n",
            "177         Timor-Leste  1.273569\n",
            "28         Burkina Faso  1.531514\n",
            "60             Ethiopia  1.589414\n",
            "14           Bangladesh  1.663506\n",
            "95   Korea, Republic of  2.016314\n",
            "149              Rwanda  2.360579\n",
            "142         Philippines  2.399143\n",
            "37                China  2.399269\n"
          ]
        }
      ]
    },
    {
      "cell_type": "code",
      "source": [
        "plt.figure(figsize=(10, 5))\n",
        "sns.barplot(data=high_ci, x='CI_Width', y='Country', palette='Reds_r')\n",
        "plt.title(\"Highest Average CI Width (Top 10 Least Reliable Obesity Data)\")\n",
        "plt.xlabel(\"Average CI Width\")\n",
        "plt.show()\n",
        "\n",
        "plt.figure(figsize=(10, 5))\n",
        "sns.barplot(data=low_ci, x='CI_Width', y='Country', palette='Greens')\n",
        "plt.title(\"Lowest Average CI Width (Top 10 Most Reliable Obesity Data)\")\n",
        "plt.xlabel(\"Average CI Width\")\n",
        "plt.show()"
      ],
      "metadata": {
        "colab": {
          "base_uri": "https://localhost:8080/",
          "height": 1000
        },
        "id": "Dh1DNbfFAB6f",
        "outputId": "abf9852e-bb21-4bd9-c7b3-9c4f5b41e7f3",
        "collapsed": true
      },
      "execution_count": null,
      "outputs": [
        {
          "output_type": "stream",
          "name": "stderr",
          "text": [
            "/tmp/ipython-input-28-510429020.py:2: FutureWarning: \n",
            "\n",
            "Passing `palette` without assigning `hue` is deprecated and will be removed in v0.14.0. Assign the `y` variable to `hue` and set `legend=False` for the same effect.\n",
            "\n",
            "  sns.barplot(data=high_ci, x='CI_Width', y='Country', palette='Reds_r')\n"
          ]
        },
        {
          "output_type": "display_data",
          "data": {
            "text/plain": [
              "<Figure size 1000x500 with 1 Axes>"
            ],
            "image/png": "[encoded data removed]"
          },
          "metadata": {}
        },
        {
          "output_type": "stream",
          "name": "stderr",
          "text": [
            "/tmp/ipython-input-28-510429020.py:8: FutureWarning: \n",
            "\n",
            "Passing `palette` without assigning `hue` is deprecated and will be removed in v0.14.0. Assign the `y` variable to `hue` and set `legend=False` for the same effect.\n",
            "\n",
            "  sns.barplot(data=low_ci, x='CI_Width', y='Country', palette='Greens')\n"
          ]
        },
        {
          "output_type": "display_data",
          "data": {
            "text/plain": [
              "<Figure size 1000x500 with 1 Axes>"
            ],
            "image/png": "[encoded data removed]"
          },
          "metadata": {}
        }
      ]
    },
    {
      "cell_type": "markdown",
      "source": [
        "# **Step 4: A] SQL Insertion**"
      ],
      "metadata": {
        "id": "HaROwcn8F6Yu"
      }
    },
    {
      "cell_type": "code",
      "source": [
        "import sqlite3\n",
        "conn = sqlite3.connect(\"nutrition_paradox.db\")\n",
        "cursor = conn.cursor()"
      ],
      "metadata": {
        "id": "4qmcKEZMF46a"
      },
      "execution_count": 21,
      "outputs": []
    },
    {
      "cell_type": "code",
      "source": [
        "cursor.execute(\"DROP TABLE IF EXISTS obesity\")\n",
        "cursor.execute(\"DROP TABLE IF EXISTS malnutrition\")\n",
        "\n",
        "#Create obesity table\n",
        "cursor.execute(\"\"\"\n",
        "CREATE TABLE IF NOT EXISTS obesity(\n",
        "    Year INTEGER,\n",
        "    Gender TEXT,\n",
        "    Mean_Estimate REAL,\n",
        "    CI_Lower REAL,\n",
        "    CI_Upper REAL,\n",
        "    Age_Group TEXT,\n",
        "    Country TEXT,\n",
        "    Region TEXT,\n",
        "    CI_Width REAL,\n",
        "    Obesity_Level TEXT\n",
        ")\n",
        "\"\"\")\n",
        "#Create malnutrition table\n",
        "cursor.execute(\"\"\"\n",
        "CREATE TABLE IF NOT EXISTS malnutrition(\n",
        "    Year INTEGER,\n",
        "    Gender TEXT,\n",
        "    Mean_Estimate REAL,\n",
        "    CI_Lower REAL,\n",
        "    CI_Upper REAL,\n",
        "    Age_Group TEXT,\n",
        "    Country TEXT,\n",
        "    Region TEXT,\n",
        "    CI_Width REAL,\n",
        "    Malnutrition_Level TEXT\n",
        ")\n",
        "\"\"\")\n",
        "conn.commit()"
      ],
      "metadata": {
        "id": "Jnr1YsdEGBFa"
      },
      "execution_count": 22,
      "outputs": []
    },
    {
      "cell_type": "code",
      "source": [
        "for index, row in df_obesity.iterrows():\n",
        "    cursor.execute(\"\"\"\n",
        "        INSERT INTO obesity(\n",
        "            Year, Gender, Mean_Estimate, CI_Lower, CI_Upper,\n",
        "            Age_Group, Country, Region, CI_Width, Obesity_Level\n",
        "        ) VALUES (?, ?, ?, ?, ?, ?, ?, ?, ?, ?)\n",
        "    \"\"\", (\n",
        "        row['Year'], row['Gender'], row['Mean_Estimate'], row['LowerBound'], row['UpperBound'],\n",
        "        row['age_group'], row['Country'], row['Region'], row['CI_Width'],\n",
        "        row.get('Obesity_Level')\n",
        "    ))\n",
        "conn.commit()"
      ],
      "metadata": {
        "id": "hJAuf8f4GSfD"
      },
      "execution_count": 23,
      "outputs": []
    },
    {
      "cell_type": "code",
      "source": [
        "for index, row in df_malnutrition.iterrows():\n",
        "    cursor.execute(\"\"\"\n",
        "        INSERT INTO malnutrition (\n",
        "            Year, Gender, Mean_Estimate, CI_Lower, CI_Upper,\n",
        "            Age_Group, Country, Region, CI_Width, Malnutrition_Level\n",
        "        ) VALUES (?, ?, ?, ?, ?, ?, ?, ?, ?, ?)\n",
        "    \"\"\", (\n",
        "        row['Year'], row['Gender'], row['Mean_Estimate'], row['LowerBound'], row['UpperBound'],\n",
        "        row['age_group'], row['Country'], row['Region'], row['CI_Width'],\n",
        "        row.get('Malnutrition_Level')\n",
        "    ))\n",
        "conn.commit()"
      ],
      "metadata": {
        "id": "Z2ejG_vzKPgA"
      },
      "execution_count": 24,
      "outputs": []
    },
    {
      "cell_type": "markdown",
      "source": [
        "# **B] Obesity Table (10 Queries)**"
      ],
      "metadata": {
        "id": "X22gGEQgIxc4"
      }
    },
    {
      "cell_type": "markdown",
      "source": [
        "**1. Top 5 regions with the highest average obesity levels in the most recent year (2022)**"
      ],
      "metadata": {
        "id": "wRYWQte7I5IK"
      }
    },
    {
      "cell_type": "code",
      "source": [
        "import pandas as pd\n",
        "query1=\"\"\"\n",
        "SELECT Region, ROUND(AVG(Mean_Estimate), 2) AS Avg_Obesity\n",
        "FROM obesity\n",
        "WHERE Year = 2022\n",
        "GROUP BY Region\n",
        "ORDER BY Avg_Obesity DESC\n",
        "LIMIT 5;\n",
        "\"\"\"\n",
        "\n",
        "df = pd.read_sql_query(query1, conn)\n",
        "df.head()\n",
        "df.to_csv('/content/1top10_highest_average_obesity_levels2022.csv', index=False)"
      ],
      "metadata": {
        "id": "K5sWCKcDIom1"
      },
      "execution_count": 35,
      "outputs": []
    },
    {
      "cell_type": "markdown",
      "source": [
        "**2. Top 5 countries with highest obesity estimates**"
      ],
      "metadata": {
        "id": "lJM3Dt_oL10w"
      }
    },
    {
      "cell_type": "code",
      "source": [
        "query2= \"\"\"\n",
        "SELECT Country, ROUND(AVG(Mean_Estimate), 2) AS Avg_Obesity\n",
        "FROM obesity\n",
        "GROUP BY Country\n",
        "ORDER BY Avg_Obesity DESC\n",
        "LIMIT 5;\n",
        "\"\"\"\n",
        "\n",
        "df = pd.read_sql_query(query2, conn)\n",
        "df.head()\n",
        "df.to_csv('/content/Top_5_countries_with_highest_obesity_estimates.csv', index=False)"
      ],
      "metadata": {
        "id": "bRs3xvXoKhsm"
      },
      "execution_count": null,
      "outputs": []
    },
    {
      "cell_type": "markdown",
      "source": [
        "**3. Obesity trend in India over the years (Mean_Estimate)**"
      ],
      "metadata": {
        "id": "ym5rFykZMfM5"
      }
    },
    {
      "cell_type": "code",
      "source": [
        "query3=\"\"\"\n",
        "SELECT Year, ROUND(AVG(Mean_Estimate), 2) AS India_Obesity\n",
        "FROM obesity\n",
        "WHERE Country='India'\n",
        "GROUP BY Year\n",
        "ORDER BY Year;\n",
        "\"\"\"\n",
        "df = pd.read_sql_query(query3, conn)\n",
        "df\n",
        "df.to_csv('/content/Obesity_trend_india.csv', index=False)"
      ],
      "metadata": {
        "id": "EL2hPsipMcak"
      },
      "execution_count": null,
      "outputs": []
    },
    {
      "cell_type": "markdown",
      "source": [
        "**4. Average obesity by gender**"
      ],
      "metadata": {
        "id": "PVn3X8w7MyZz"
      }
    },
    {
      "cell_type": "code",
      "source": [
        "query4=\"\"\"\n",
        "SELECT Gender, ROUND(AVG(Mean_Estimate), 2) AS Avg_Obesity\n",
        "FROM obesity\n",
        "GROUP BY Gender;\n",
        "\"\"\"\n",
        "df = pd.read_sql_query(query4, conn)\n",
        "df\n",
        "df.to_csv('/content/avg_gender_obesity.csv', index=False)"
      ],
      "metadata": {
        "id": "3iUnnAR3MwiG"
      },
      "execution_count": null,
      "outputs": []
    },
    {
      "cell_type": "markdown",
      "source": [
        "**5. Country count by obesity level category and age group**"
      ],
      "metadata": {
        "id": "Ra9tV_IMNjA_"
      }
    },
    {
      "cell_type": "code",
      "source": [
        "query5= \"\"\"\n",
        "SELECT Obesity_Level, age_group, COUNT(DISTINCT Country) AS Country_Count\n",
        "FROM obesity\n",
        "GROUP BY Obesity_Level, age_group\n",
        "ORDER BY Obesity_Level, age_group;\n",
        "\"\"\"\n",
        "\n",
        "df=pd.read_sql_query(query5, conn)\n",
        "df\n",
        "df.to_csv('/content/countrycount_obseitylevel_and_age.csv', index=False)"
      ],
      "metadata": {
        "id": "jYI7aLlCNeD2"
      },
      "execution_count": null,
      "outputs": []
    },
    {
      "cell_type": "markdown",
      "source": [
        "**6.Top 5 least reliable (highest CI_Width) and most consistent (lowest CI_Width) countries**"
      ],
      "metadata": {
        "id": "MsIDMrOlN2nc"
      }
    },
    {
      "cell_type": "code",
      "source": [
        "query6=\"\"\"\n",
        "SELECT Country, ROUND(AVG(CI_Width), 2) AS Avg_CI_Width\n",
        "FROM obesity\n",
        "GROUP BY Country\n",
        "ORDER BY Avg_CI_Width DESC;\n",
        "\"\"\"\n",
        "#Unreliable\n",
        "df1=pd.read_sql_query(query6, conn).head(5)\n",
        "df1\n",
        "df1.to_csv('/content/Upd_least_reliableCI.csv', index=False)"
      ],
      "metadata": {
        "id": "W8QJSTIhN13U"
      },
      "execution_count": 30,
      "outputs": []
    },
    {
      "cell_type": "code",
      "source": [
        "#Consistent\n",
        "df2=pd.read_sql_query(query6, conn).tail(5)\n",
        "df2\n",
        "df2.to_csv('/content/UPD_most_reliableCI.csv', index=False)"
      ],
      "metadata": {
        "id": "UFcXWbgKQRFt"
      },
      "execution_count": 31,
      "outputs": []
    },
    {
      "cell_type": "markdown",
      "source": [
        "**7. Average obesity by age group**"
      ],
      "metadata": {
        "id": "ZyVh82bjQgUz"
      }
    },
    {
      "cell_type": "code",
      "source": [
        "df=query7=\"\"\"\n",
        "SELECT Age_Group, ROUND(AVG(Mean_Estimate), 2) AS Avg_Obesity\n",
        "FROM obesity\n",
        "GROUP BY Age_Group\n",
        "ORDER BY Avg_Obesity DESC;\n",
        "\"\"\"\n",
        "df=pd.read_sql_query(query7, conn)\n",
        "df.to_csv('/content/avg_Obesity_agegrp_wise.csv', index=False)"
      ],
      "metadata": {
        "id": "e_tGyIAbQdt5"
      },
      "execution_count": null,
      "outputs": []
    },
    {
      "cell_type": "markdown",
      "source": [
        "**8. Top 10 countries with consistent low obesity (low average + low CI)**"
      ],
      "metadata": {
        "id": "P3J9rCWdRgtG"
      }
    },
    {
      "cell_type": "code",
      "source": [
        "query8=\"\"\"\n",
        "SELECT Country, ROUND(AVG(Mean_Estimate),2) AS Avg_Obesity, ROUND(AVG(CI_Width),2) AS Avg_CI\n",
        "FROM obesity\n",
        "GROUP BY Country\n",
        "HAVING Avg_Obesity<25 AND Avg_CI<2\n",
        "ORDER BY Avg_Obesity ASC, Avg_CI ASC;\n",
        "\"\"\"\n",
        "df8=pd.read_sql_query(query8, conn)\n",
        "df8\n",
        "df8.to_csv('/content/111top10_lowest_obesity_countries.csv', index=False)"
      ],
      "metadata": {
        "id": "qx7KxASuQnIw"
      },
      "execution_count": 25,
      "outputs": []
    },
    {
      "cell_type": "markdown",
      "source": [
        "**9.Countries where female obesity exceeds male by large margin (same year)**"
      ],
      "metadata": {
        "id": "3fxt9OlMkEt_"
      }
    },
    {
      "cell_type": "code",
      "source": [
        "query9=\"\"\"\n",
        "WITH GenderStats AS(SELECT Country, Year, Gender, AVG(Mean_Estimate) AS Avg_Obesity\n",
        "  FROM obesity\n",
        "  GROUP BY Country, Year, Gender)\n",
        "SELECT f.Country, f.Year,\n",
        "       ROUND(f.Avg_Obesity-m.Avg_Obesity, 2) AS Obesity_Gap\n",
        "FROM GenderStats f\n",
        "JOIN GenderStats m ON f.Country=m.Country AND f.Year=m.Year\n",
        "WHERE f.Gender = 'Female' AND m.Gender = 'Male'\n",
        "  AND Obesity_Gap>5\n",
        "ORDER BY Obesity_Gap DESC;\n",
        "\"\"\"\n",
        "df=pd.read_sql_query(query9, conn)\n",
        "df.to_csv('/content/female_obesity_more_than_male.csv', index=False)"
      ],
      "metadata": {
        "id": "B2J5ruSYRf69"
      },
      "execution_count": null,
      "outputs": []
    },
    {
      "cell_type": "markdown",
      "source": [
        "**10. Global average obesity percentage per year**"
      ],
      "metadata": {
        "id": "RtXXoFRJSNBq"
      }
    },
    {
      "cell_type": "code",
      "source": [
        "query10=\"\"\"\n",
        "SELECT Year, ROUND(AVG(Mean_Estimate), 2) AS Global_Avg_Obesity\n",
        "FROM obesity\n",
        "GROUP BY Year\n",
        "ORDER BY Year;\n",
        "\"\"\"\n",
        "df=pd.read_sql_query(query10, conn)\n",
        "df.to_csv('/content/Global_obesity_percent1.csv', index=False)"
      ],
      "metadata": {
        "id": "ZFBxRlmGSJ_O"
      },
      "execution_count": null,
      "outputs": []
    },
    {
      "cell_type": "markdown",
      "source": [
        "# **C] 10 Malnutrition Queries**\n",
        "**1. Avg. malnutrition by age group**"
      ],
      "metadata": {
        "id": "dyDmM8DDSckf"
      }
    },
    {
      "cell_type": "code",
      "source": [
        "queryM1=\"\"\"\n",
        "SELECT age_group, ROUND(AVG(Mean_Estimate), 2) AS Avg_Malnutrition\n",
        "FROM malnutrition\n",
        "GROUP BY age_group\n",
        "ORDER BY Avg_Malnutrition DESC;\n",
        "\"\"\"\n",
        "df1=pd.read_sql_query(queryM1, conn)\n",
        "df1\n",
        "df1.to_csv('/content/Avg_malnutrition_agewise.csv', index=False)"
      ],
      "metadata": {
        "id": "EAhTuOxhSTTk"
      },
      "execution_count": null,
      "outputs": []
    },
    {
      "cell_type": "markdown",
      "source": [
        "**2. Top 5 countries with highest malnutrition (mean_estimate)**"
      ],
      "metadata": {
        "id": "DkPB_95CSwFj"
      }
    },
    {
      "cell_type": "code",
      "source": [
        "query2=\"\"\"\n",
        "SELECT Country, ROUND(AVG(Mean_Estimate), 2) AS Avg_Malnutrition\n",
        "FROM malnutrition\n",
        "GROUP BY Country\n",
        "ORDER BY Avg_Malnutrition DESC\n",
        "LIMIT 5;\n",
        "\"\"\"\n",
        "\n",
        "df2=pd.read_sql_query(query2, conn)\n",
        "df2\n",
        "df2.to_csv('/content/top5_highest_malnutrition.csv', index=False)"
      ],
      "metadata": {
        "id": "BBpXW53kSuqz"
      },
      "execution_count": null,
      "outputs": []
    },
    {
      "cell_type": "markdown",
      "source": [
        "**3. Malnutrition trend in African region over the years**"
      ],
      "metadata": {
        "id": "SzHEBIcNTkb4"
      }
    },
    {
      "cell_type": "code",
      "source": [
        "query3=\"\"\"\n",
        "SELECT Year, ROUND(AVG(Mean_Estimate), 2) AS Avg_Malnutrition\n",
        "FROM malnutrition\n",
        "WHERE Region='Africa'\n",
        "GROUP BY Year\n",
        "ORDER BY Year;\n",
        "\"\"\"\n",
        "df3=pd.read_sql_query(query3, conn)\n",
        "df3\n",
        "df3.to_csv('/content/mal_africa.csv', index=False)"
      ],
      "metadata": {
        "id": "b3q5njSWSrZ8"
      },
      "execution_count": null,
      "outputs": []
    },
    {
      "cell_type": "markdown",
      "source": [
        "**4. Gender-based average malnutrition**"
      ],
      "metadata": {
        "id": "dYPgcc4nTzSR"
      }
    },
    {
      "cell_type": "code",
      "source": [
        "query4=\"\"\"\n",
        "SELECT Gender, ROUND(AVG(Mean_Estimate), 2) AS Avg_Malnutrition\n",
        "FROM malnutrition\n",
        "GROUP BY Gender\n",
        "ORDER BY Avg_Malnutrition DESC;\n",
        "\"\"\"\n",
        "df4=pd.read_sql_query(query4, conn)\n",
        "df4\n",
        "df4.to_csv('/content/gender_avg_mal.csv', index=False)"
      ],
      "metadata": {
        "id": "U6CYRe1PTwfU"
      },
      "execution_count": null,
      "outputs": []
    },
    {
      "cell_type": "markdown",
      "source": [
        "**5. Malnutrition level-wise average CI_Width by age group**"
      ],
      "metadata": {
        "id": "JgJR7R5CT7an"
      }
    },
    {
      "cell_type": "code",
      "source": [
        "query5=\"\"\"\n",
        "SELECT Malnutrition_Level, age_group, ROUND(AVG(CI_Width), 2) AS Avg_CI_Width\n",
        "FROM malnutrition\n",
        "GROUP BY Malnutrition_Level, age_group\n",
        "ORDER BY Avg_CI_Width DESC;\n",
        "\"\"\"\n",
        "df5=pd.read_sql_query(query5, conn)\n",
        "df5\n",
        "df5.to_csv('/content/mal_level_avg_CIbyAge.csv', index=False)"
      ],
      "metadata": {
        "id": "RbGFG7h2T4D3"
      },
      "execution_count": null,
      "outputs": []
    },
    {
      "cell_type": "markdown",
      "source": [
        "**6. Yearly malnutrition change in India, Nigeria, Brazil**"
      ],
      "metadata": {
        "id": "DVOZWpgmUXB7"
      }
    },
    {
      "cell_type": "code",
      "source": [
        "query6= \"\"\"\n",
        "SELECT Country, Year, ROUND(AVG(Mean_Estimate), 2) AS Avg_Malnutrition\n",
        "FROM malnutrition\n",
        "WHERE Country IN ('India', 'Nigeria', 'Brazil')\n",
        "GROUP BY Country, Year\n",
        "ORDER BY Country, Year;\n",
        "\"\"\"\n",
        "df6= pd.read_sql_query(query6, conn)\n",
        "df6\n",
        "df6.to_csv('/content/yeatly_mal_change_Ind_NI_BR.csv', index=False)"
      ],
      "metadata": {
        "id": "OAY3dsQmUIlP"
      },
      "execution_count": null,
      "outputs": []
    },
    {
      "cell_type": "markdown",
      "source": [
        "**7. Regions with lowest malnutrition averages**"
      ],
      "metadata": {
        "id": "u5uEd22wUkf6"
      }
    },
    {
      "cell_type": "code",
      "source": [
        "query7=\"\"\"\n",
        "SELECT Region, ROUND(AVG(Mean_Estimate), 2) AS Avg_Malnutrition\n",
        "FROM malnutrition\n",
        "GROUP BY Region\n",
        "ORDER BY Avg_Malnutrition ASC\n",
        "LIMIT 5;\n",
        "\"\"\"\n",
        "df7=pd.read_sql_query(query7, conn)\n",
        "df7\n",
        "df7.to_csv('/content/upd_lowest_mal_avg.csv', index=False)"
      ],
      "metadata": {
        "id": "pAjFcj80UhXq"
      },
      "execution_count": 27,
      "outputs": []
    },
    {
      "cell_type": "markdown",
      "source": [
        "**8. Countries with increasing malnutrition (positive change over years)**"
      ],
      "metadata": {
        "id": "fG7C-rwmU5lf"
      }
    },
    {
      "cell_type": "code",
      "source": [
        "query8=\"\"\"\n",
        "SELECT Country, MIN(Mean_Estimate) AS Min_Malnutrition, MAX(Mean_Estimate) AS Max_Malnutrition, ROUND(MAX(Mean_Estimate)-MIN(Mean_Estimate), 2) AS Change\n",
        "FROM malnutrition\n",
        "GROUP BY Country\n",
        "HAVING Change>0\n",
        "ORDER BY Change DESC;\n",
        "\"\"\"\n",
        "df8=pd.read_sql_query(query8, conn)\n",
        "df8\n",
        "df8.to_csv('/content/11Countries_increasing_mal.csv', index=False)"
      ],
      "metadata": {
        "id": "MmSMhe2QUr9b"
      },
      "execution_count": 26,
      "outputs": []
    },
    {
      "cell_type": "markdown",
      "source": [
        "**9. Min/Max malnutrition levels year-wise comparison**"
      ],
      "metadata": {
        "id": "RN5dwbbTVV2O"
      }
    },
    {
      "cell_type": "code",
      "source": [
        "query9=\"\"\"\n",
        "SELECT Year, ROUND(MIN(Mean_Estimate), 2) AS Min_Malnutrition, ROUND(MAX(Mean_Estimate), 2) AS Max_Malnutrition\n",
        "FROM malnutrition\n",
        "GROUP BY Year\n",
        "ORDER BY Year;\n",
        "\"\"\"\n",
        "df9=pd.read_sql_query(query9, conn)\n",
        "df9\n",
        "df9.to_csv('/content/min_max_mal_comparision.csv', index=False)"
      ],
      "metadata": {
        "id": "T86HSrLkVR7m"
      },
      "execution_count": null,
      "outputs": []
    },
    {
      "cell_type": "markdown",
      "source": [
        "**10. High CI_Width flags for monitoring (CI_Width>5)**"
      ],
      "metadata": {
        "id": "tQm0_azMVjA8"
      }
    },
    {
      "cell_type": "code",
      "source": [
        "query10=\"\"\"\n",
        "SELECT Country, Year, Mean_Estimate, CI_Width\n",
        "FROM malnutrition\n",
        "WHERE CI_Width>5\n",
        "ORDER BY CI_Width DESC;\n",
        "\"\"\"\n",
        "df10=pd.read_sql_query(query10, conn)\n",
        "df10\n",
        "df10.to_csv('/content/high_ci_width_flags.csv', index=False)"
      ],
      "metadata": {
        "id": "IIjfnPxfVgIl"
      },
      "execution_count": null,
      "outputs": []
    },
    {
      "cell_type": "markdown",
      "source": [
        "# **D] Combined Queries**"
      ],
      "metadata": {
        "id": "qMt3u8cZV14T"
      }
    },
    {
      "cell_type": "markdown",
      "source": [
        "**1: Obesity vs Malnutrition comparison by country (any 5 countries)**"
      ],
      "metadata": {
        "id": "uubHzRTQWJTj"
      }
    },
    {
      "cell_type": "code",
      "source": [
        "queryC1=\"\"\"\n",
        "SELECT o.Country,\n",
        "       ROUND(AVG(o.Mean_Estimate), 2) AS Avg_Obesity,\n",
        "       ROUND(AVG(m.Mean_Estimate), 2) AS Avg_Malnutrition\n",
        "FROM obesity o\n",
        "JOIN malnutrition m ON o.Country = m.Country\n",
        "WHERE o.Country IN ('India', 'Senegal', 'Brazil', 'Nigeria', 'Japan')\n",
        "  AND m.Country IN ('India', 'Senegal', 'Brazil', 'Nigeria', 'Japan')\n",
        "GROUP BY o.Country;\n",
        "\"\"\"\n",
        "df11=pd.read_sql_query(queryC1, conn)\n",
        "df11\n",
        "df11.to_csv('/content/ob_vs_mal.csv', index=False)"
      ],
      "metadata": {
        "id": "liPIIJ7eV1Or"
      },
      "execution_count": null,
      "outputs": []
    },
    {
      "cell_type": "markdown",
      "source": [
        "**2. Gender-based disparity in both obesity and malnutrition**"
      ],
      "metadata": {
        "id": "d7aaJYngWl5D"
      }
    },
    {
      "cell_type": "code",
      "source": [
        "query2=\"\"\"\n",
        "SELECT o.Gender,\n",
        "       ROUND(AVG(o.Mean_Estimate), 2) AS Avg_Obesity,\n",
        "       ROUND(AVG(m.Mean_Estimate), 2) AS Avg_Malnutrition\n",
        "FROM obesity o\n",
        "JOIN malnutrition m ON o.Gender=m.Gender\n",
        "GROUP BY o.Gender;\n",
        "\"\"\"\n",
        "df12=pd.read_sql_query(query2, conn)\n",
        "df12\n",
        "df12.to_csv('/content/gender_disparity_mal_vs_ob.csv', index=False)"
      ],
      "metadata": {
        "id": "DwlypYTfYUfv",
        "colab": {
          "base_uri": "https://localhost:8080/",
          "height": 356
        },
        "outputId": "88a87bdd-b642-4163-8518-d8e9e950eae9"
      },
      "execution_count": 55,
      "outputs": [
        {
          "output_type": "error",
          "ename": "KeyboardInterrupt",
          "evalue": "",
          "traceback": [
            "\u001b[0;31m---------------------------------------------------------------------------\u001b[0m",
            "\u001b[0;31mKeyboardInterrupt\u001b[0m                         Traceback (most recent call last)",
            "\u001b[0;32m/tmp/ipython-input-55-807328032.py\u001b[0m in \u001b[0;36m<cell line: 0>\u001b[0;34m()\u001b[0m\n\u001b[1;32m      7\u001b[0m \u001b[0mGROUP\u001b[0m \u001b[0mBY\u001b[0m \u001b[0mo\u001b[0m\u001b[0;34m.\u001b[0m\u001b[0mGender\u001b[0m\u001b[0;34m;\u001b[0m\u001b[0;34m\u001b[0m\u001b[0;34m\u001b[0m\u001b[0m\n\u001b[1;32m      8\u001b[0m \"\"\"\n\u001b[0;32m----> 9\u001b[0;31m \u001b[0mdf12\u001b[0m\u001b[0;34m=\u001b[0m\u001b[0mpd\u001b[0m\u001b[0;34m.\u001b[0m\u001b[0mread_sql_query\u001b[0m\u001b[0;34m(\u001b[0m\u001b[0mquery2\u001b[0m\u001b[0;34m,\u001b[0m \u001b[0mconn\u001b[0m\u001b[0;34m)\u001b[0m\u001b[0;34m\u001b[0m\u001b[0;34m\u001b[0m\u001b[0m\n\u001b[0m\u001b[1;32m     10\u001b[0m \u001b[0mdf12\u001b[0m\u001b[0;34m\u001b[0m\u001b[0;34m\u001b[0m\u001b[0m\n\u001b[1;32m     11\u001b[0m \u001b[0mdf12\u001b[0m\u001b[0;34m.\u001b[0m\u001b[0mto_csv\u001b[0m\u001b[0;34m(\u001b[0m\u001b[0;34m'/content/gender_disparity_mal_vs_ob.csv'\u001b[0m\u001b[0;34m,\u001b[0m \u001b[0mindex\u001b[0m\u001b[0;34m=\u001b[0m\u001b[0;32mFalse\u001b[0m\u001b[0;34m)\u001b[0m\u001b[0;34m\u001b[0m\u001b[0;34m\u001b[0m\u001b[0m\n",
            "\u001b[0;32m/usr/local/lib/python3.11/dist-packages/pandas/io/sql.py\u001b[0m in \u001b[0;36mread_sql_query\u001b[0;34m(sql, con, index_col, coerce_float, params, parse_dates, chunksize, dtype, dtype_backend)\u001b[0m\n\u001b[1;32m    524\u001b[0m \u001b[0;34m\u001b[0m\u001b[0m\n\u001b[1;32m    525\u001b[0m     \u001b[0;32mwith\u001b[0m \u001b[0mpandasSQL_builder\u001b[0m\u001b[0;34m(\u001b[0m\u001b[0mcon\u001b[0m\u001b[0;34m)\u001b[0m \u001b[0;32mas\u001b[0m \u001b[0mpandas_sql\u001b[0m\u001b[0;34m:\u001b[0m\u001b[0;34m\u001b[0m\u001b[0;34m\u001b[0m\u001b[0m\n\u001b[0;32m--> 526\u001b[0;31m         return pandas_sql.read_query(\n\u001b[0m\u001b[1;32m    527\u001b[0m             \u001b[0msql\u001b[0m\u001b[0;34m,\u001b[0m\u001b[0;34m\u001b[0m\u001b[0;34m\u001b[0m\u001b[0m\n\u001b[1;32m    528\u001b[0m             \u001b[0mindex_col\u001b[0m\u001b[0;34m=\u001b[0m\u001b[0mindex_col\u001b[0m\u001b[0;34m,\u001b[0m\u001b[0;34m\u001b[0m\u001b[0;34m\u001b[0m\u001b[0m\n",
            "\u001b[0;32m/usr/local/lib/python3.11/dist-packages/pandas/io/sql.py\u001b[0m in \u001b[0;36mread_query\u001b[0;34m(self, sql, index_col, coerce_float, parse_dates, params, chunksize, dtype, dtype_backend)\u001b[0m\n\u001b[1;32m   2736\u001b[0m         \u001b[0mdtype_backend\u001b[0m\u001b[0;34m:\u001b[0m \u001b[0mDtypeBackend\u001b[0m \u001b[0;34m|\u001b[0m \u001b[0mLiteral\u001b[0m\u001b[0;34m[\u001b[0m\u001b[0;34m\"numpy\"\u001b[0m\u001b[0;34m]\u001b[0m \u001b[0;34m=\u001b[0m \u001b[0;34m\"numpy\"\u001b[0m\u001b[0;34m,\u001b[0m\u001b[0;34m\u001b[0m\u001b[0;34m\u001b[0m\u001b[0m\n\u001b[1;32m   2737\u001b[0m     ) -> DataFrame | Iterator[DataFrame]:\n\u001b[0;32m-> 2738\u001b[0;31m         \u001b[0mcursor\u001b[0m \u001b[0;34m=\u001b[0m \u001b[0mself\u001b[0m\u001b[0;34m.\u001b[0m\u001b[0mexecute\u001b[0m\u001b[0;34m(\u001b[0m\u001b[0msql\u001b[0m\u001b[0;34m,\u001b[0m \u001b[0mparams\u001b[0m\u001b[0;34m)\u001b[0m\u001b[0;34m\u001b[0m\u001b[0;34m\u001b[0m\u001b[0m\n\u001b[0m\u001b[1;32m   2739\u001b[0m         \u001b[0mcolumns\u001b[0m \u001b[0;34m=\u001b[0m \u001b[0;34m[\u001b[0m\u001b[0mcol_desc\u001b[0m\u001b[0;34m[\u001b[0m\u001b[0;36m0\u001b[0m\u001b[0;34m]\u001b[0m \u001b[0;32mfor\u001b[0m \u001b[0mcol_desc\u001b[0m \u001b[0;32min\u001b[0m \u001b[0mcursor\u001b[0m\u001b[0;34m.\u001b[0m\u001b[0mdescription\u001b[0m\u001b[0;34m]\u001b[0m\u001b[0;34m\u001b[0m\u001b[0;34m\u001b[0m\u001b[0m\n\u001b[1;32m   2740\u001b[0m \u001b[0;34m\u001b[0m\u001b[0m\n",
            "\u001b[0;32m/usr/local/lib/python3.11/dist-packages/pandas/io/sql.py\u001b[0m in \u001b[0;36mexecute\u001b[0;34m(self, sql, params)\u001b[0m\n\u001b[1;32m   2672\u001b[0m         \u001b[0mcur\u001b[0m \u001b[0;34m=\u001b[0m \u001b[0mself\u001b[0m\u001b[0;34m.\u001b[0m\u001b[0mcon\u001b[0m\u001b[0;34m.\u001b[0m\u001b[0mcursor\u001b[0m\u001b[0;34m(\u001b[0m\u001b[0;34m)\u001b[0m\u001b[0;34m\u001b[0m\u001b[0;34m\u001b[0m\u001b[0m\n\u001b[1;32m   2673\u001b[0m         \u001b[0;32mtry\u001b[0m\u001b[0;34m:\u001b[0m\u001b[0;34m\u001b[0m\u001b[0;34m\u001b[0m\u001b[0m\n\u001b[0;32m-> 2674\u001b[0;31m             \u001b[0mcur\u001b[0m\u001b[0;34m.\u001b[0m\u001b[0mexecute\u001b[0m\u001b[0;34m(\u001b[0m\u001b[0msql\u001b[0m\u001b[0;34m,\u001b[0m \u001b[0;34m*\u001b[0m\u001b[0margs\u001b[0m\u001b[0;34m)\u001b[0m\u001b[0;34m\u001b[0m\u001b[0;34m\u001b[0m\u001b[0m\n\u001b[0m\u001b[1;32m   2675\u001b[0m             \u001b[0;32mreturn\u001b[0m \u001b[0mcur\u001b[0m\u001b[0;34m\u001b[0m\u001b[0;34m\u001b[0m\u001b[0m\n\u001b[1;32m   2676\u001b[0m         \u001b[0;32mexcept\u001b[0m \u001b[0mException\u001b[0m \u001b[0;32mas\u001b[0m \u001b[0mexc\u001b[0m\u001b[0;34m:\u001b[0m\u001b[0;34m\u001b[0m\u001b[0;34m\u001b[0m\u001b[0m\n",
            "\u001b[0;31mKeyboardInterrupt\u001b[0m: "
          ]
        }
      ]
    },
    {
      "cell_type": "markdown",
      "source": [
        "**3. Region-wise average estimates side-by-side (Africa and America)**"
      ],
      "metadata": {
        "id": "vbmdbKnHW8Xl"
      }
    },
    {
      "cell_type": "code",
      "source": [
        "query3=\"\"\"\n",
        "SELECT o.Region,\n",
        "       ROUND(AVG(o.Mean_Estimate), 2) AS Avg_Obesity,\n",
        "       ROUND(AVG(m.Mean_Estimate), 2) AS Avg_Malnutrition\n",
        "FROM obesity o\n",
        "JOIN malnutrition m ON o.Region = m.Region\n",
        "WHERE o.Region IN ('Africa', 'Americas') AND m.Region IN ('Africa', 'Americas')\n",
        "GROUP BY o.Region;\n",
        "\"\"\"\n",
        "df13= pd.read_sql_query(query3, conn)\n",
        "df13\n",
        "df13.to_csv('/content/region_wise_sidebyside.csv', index=False)"
      ],
      "metadata": {
        "id": "9GiyOm3MW7cM"
      },
      "execution_count": null,
      "outputs": []
    },
    {
      "cell_type": "markdown",
      "source": [
        "**4. Countries with obesity increasing & malnutrition decreasing**"
      ],
      "metadata": {
        "id": "fK2Q7MQdXGyc"
      }
    },
    {
      "cell_type": "code",
      "source": [
        "query14=\"\"\"\n",
        "WITH obesity_change AS(\n",
        "    SELECT Country,\n",
        "           MIN(Year) AS Start_Year,\n",
        "           MAX(Year) AS End_Year,\n",
        "           MIN(Mean_Estimate) AS Min_Obesity,\n",
        "           MAX(Mean_Estimate) AS Max_Obesity\n",
        "    FROM obesity\n",
        "    GROUP BY Country),\n",
        "malnutrition_change AS(\n",
        "    SELECT Country,\n",
        "           MIN(Year) AS Start_Year,\n",
        "           MAX(Year) AS End_Year,\n",
        "           MIN(Mean_Estimate) AS Min_Malnutrition,\n",
        "           MAX(Mean_Estimate) AS Max_Malnutrition\n",
        "    FROM malnutrition\n",
        "    GROUP BY Country)\n",
        "SELECT o.Country,\n",
        "       ROUND(o.Min_Obesity, 2) AS Start_Obesity,\n",
        "       ROUND(o.Max_Obesity, 2) AS End_Obesity,\n",
        "       ROUND(m.Min_Malnutrition, 2) AS Start_Malnutrition,\n",
        "       ROUND(m.Max_Malnutrition, 2) AS End_Malnutrition\n",
        "FROM obesity_change o\n",
        "JOIN malnutrition_change m ON o.Country=m.Country\n",
        "WHERE o.Max_Obesity>o.Min_Obesity AND m.Max_Malnutrition<m.Min_Malnutrition;\n",
        "\"\"\"\n",
        "df14=pd.read_sql_query(query14, conn)\n",
        "df14\n",
        "#df14.to_csv('/content/ob_inc_and_mal_dec.csv', index=False)"
      ],
      "metadata": {
        "id": "Zqun-YiaXGVk",
        "colab": {
          "base_uri": "https://localhost:8080/",
          "height": 89
        },
        "outputId": "c27abb4d-0d6e-4e6e-b7a9-23017e18a398"
      },
      "execution_count": 34,
      "outputs": [
        {
          "output_type": "execute_result",
          "data": {
            "text/plain": [
              "Empty DataFrame\n",
              "Columns: [Country, Start_Obesity, End_Obesity, Start_Malnutrition, End_Malnutrition]\n",
              "Index: []"
            ],
            "text/html": [
              "\n",
              "  <div id=\"df-3bac5c28-e579-49ce-9fd3-c57bae10878c\" class=\"colab-df-container\">\n",
              "    <div>\n",
              "<style scoped>\n",
              "    .dataframe tbody tr th:only-of-type {\n",
              "        vertical-align: middle;\n",
              "    }\n",
              "\n",
              "    .dataframe tbody tr th {\n",
              "        vertical-align: top;\n",
              "    }\n",
              "\n",
              "    .dataframe thead th {\n",
              "        text-align: right;\n",
              "    }\n",
              "</style>\n",
              "<table border=\"1\" class=\"dataframe\">\n",
              "  <thead>\n",
              "    <tr style=\"text-align: right;\">\n",
              "      <th></th>\n",
              "      <th>Country</th>\n",
              "      <th>Start_Obesity</th>\n",
              "      <th>End_Obesity</th>\n",
              "      <th>Start_Malnutrition</th>\n",
              "      <th>End_Malnutrition</th>\n",
              "    </tr>\n",
              "  </thead>\n",
              "  <tbody>\n",
              "  </tbody>\n",
              "</table>\n",
              "</div>\n",
              "    <div class=\"colab-df-buttons\">\n",
              "\n",
              "  <div class=\"colab-df-container\">\n",
              "    <button class=\"colab-df-convert\" onclick=\"convertToInteractive('df-3bac5c28-e579-49ce-9fd3-c57bae10878c')\"\n",
              "            title=\"Convert this dataframe to an interactive table.\"\n",
              "            style=\"display:none;\">\n",
              "\n",
              "  <svg xmlns=\"http://www.w3.org/2000/svg\" height=\"24px\" viewBox=\"0 -960 960 960\">\n",
              "    <path d=\"M120-120v-720h720v720H120Zm60-500h600v-160H180v160Zm220 220h160v-160H400v160Zm0 220h160v-160H400v160ZM180-400h160v-160H180v160Zm440 0h160v-160H620v160ZM180-180h160v-160H180v160Zm440 0h160v-160H620v160Z\"/>\n",
              "  </svg>\n",
              "    </button>\n",
              "\n",
              "  <style>\n",
              "    .colab-df-container {\n",
              "      display:flex;\n",
              "      gap: 12px;\n",
              "    }\n",
              "\n",
              "    .colab-df-convert {\n",
              "      background-color: #E8F0FE;\n",
              "      border: none;\n",
              "      border-radius: 50%;\n",
              "      cursor: pointer;\n",
              "      display: none;\n",
              "      fill: #1967D2;\n",
              "      height: 32px;\n",
              "      padding: 0 0 0 0;\n",
              "      width: 32px;\n",
              "    }\n",
              "\n",
              "    .colab-df-convert:hover {\n",
              "      background-color: #E2EBFA;\n",
              "      box-shadow: 0px 1px 2px rgba(60, 64, 67, 0.3), 0px 1px 3px 1px rgba(60, 64, 67, 0.15);\n",
              "      fill: #174EA6;\n",
              "    }\n",
              "\n",
              "    .colab-df-buttons div {\n",
              "      margin-bottom: 4px;\n",
              "    }\n",
              "\n",
              "    [theme=dark] .colab-df-convert {\n",
              "      background-color: #3B4455;\n",
              "      fill: #D2E3FC;\n",
              "    }\n",
              "\n",
              "    [theme=dark] .colab-df-convert:hover {\n",
              "      background-color: #434B5C;\n",
              "      box-shadow: 0px 1px 3px 1px rgba(0, 0, 0, 0.15);\n",
              "      filter: drop-shadow(0px 1px 2px rgba(0, 0, 0, 0.3));\n",
              "      fill: #FFFFFF;\n",
              "    }\n",
              "  </style>\n",
              "\n",
              "    <script>\n",
              "      const buttonEl =\n",
              "        document.querySelector('#df-3bac5c28-e579-49ce-9fd3-c57bae10878c button.colab-df-convert');\n",
              "      buttonEl.style.display =\n",
              "        google.colab.kernel.accessAllowed ? 'block' : 'none';\n",
              "\n",
              "      async function convertToInteractive(key) {\n",
              "        const element = document.querySelector('#df-3bac5c28-e579-49ce-9fd3-c57bae10878c');\n",
              "        const dataTable =\n",
              "          await google.colab.kernel.invokeFunction('convertToInteractive',\n",
              "                                                    [key], {});\n",
              "        if (!dataTable) return;\n",
              "\n",
              "        const docLinkHtml = 'Like what you see? Visit the ' +\n",
              "          '<a target=\"_blank\" href=https://colab.research.google.com/notebooks/data_table.ipynb>data table notebook</a>'\n",
              "          + ' to learn more about interactive tables.';\n",
              "        element.innerHTML = '';\n",
              "        dataTable['output_type'] = 'display_data';\n",
              "        await google.colab.output.renderOutput(dataTable, element);\n",
              "        const docLink = document.createElement('div');\n",
              "        docLink.innerHTML = docLinkHtml;\n",
              "        element.appendChild(docLink);\n",
              "      }\n",
              "    </script>\n",
              "  </div>\n",
              "\n",
              "\n",
              "  <div id=\"id_b91e3466-8fac-4de5-b76c-9b7041d55245\">\n",
              "    <style>\n",
              "      .colab-df-generate {\n",
              "        background-color: #E8F0FE;\n",
              "        border: none;\n",
              "        border-radius: 50%;\n",
              "        cursor: pointer;\n",
              "        display: none;\n",
              "        fill: #1967D2;\n",
              "        height: 32px;\n",
              "        padding: 0 0 0 0;\n",
              "        width: 32px;\n",
              "      }\n",
              "\n",
              "      .colab-df-generate:hover {\n",
              "        background-color: #E2EBFA;\n",
              "        box-shadow: 0px 1px 2px rgba(60, 64, 67, 0.3), 0px 1px 3px 1px rgba(60, 64, 67, 0.15);\n",
              "        fill: #174EA6;\n",
              "      }\n",
              "\n",
              "      [theme=dark] .colab-df-generate {\n",
              "        background-color: #3B4455;\n",
              "        fill: #D2E3FC;\n",
              "      }\n",
              "\n",
              "      [theme=dark] .colab-df-generate:hover {\n",
              "        background-color: #434B5C;\n",
              "        box-shadow: 0px 1px 3px 1px rgba(0, 0, 0, 0.15);\n",
              "        filter: drop-shadow(0px 1px 2px rgba(0, 0, 0, 0.3));\n",
              "        fill: #FFFFFF;\n",
              "      }\n",
              "    </style>\n",
              "    <button class=\"colab-df-generate\" onclick=\"generateWithVariable('df14')\"\n",
              "            title=\"Generate code using this dataframe.\"\n",
              "            style=\"display:none;\">\n",
              "\n",
              "  <svg xmlns=\"http://www.w3.org/2000/svg\" height=\"24px\"viewBox=\"0 0 24 24\"\n",
              "       width=\"24px\">\n",
              "    <path d=\"M7,19H8.4L18.45,9,17,7.55,7,17.6ZM5,21V16.75L18.45,3.32a2,2,0,0,1,2.83,0l1.4,1.43a1.91,1.91,0,0,1,.58,1.4,1.91,1.91,0,0,1-.58,1.4L9.25,21ZM18.45,9,17,7.55Zm-12,3A5.31,5.31,0,0,0,4.9,8.1,5.31,5.31,0,0,0,1,6.5,5.31,5.31,0,0,0,4.9,4.9,5.31,5.31,0,0,0,6.5,1,5.31,5.31,0,0,0,8.1,4.9,5.31,5.31,0,0,0,12,6.5,5.46,5.46,0,0,0,6.5,12Z\"/>\n",
              "  </svg>\n",
              "    </button>\n",
              "    <script>\n",
              "      (() => {\n",
              "      const buttonEl =\n",
              "        document.querySelector('#id_b91e3466-8fac-4de5-b76c-9b7041d55245 button.colab-df-generate');\n",
              "      buttonEl.style.display =\n",
              "        google.colab.kernel.accessAllowed ? 'block' : 'none';\n",
              "\n",
              "      buttonEl.onclick = () => {\n",
              "        google.colab.notebook.generateWithVariable('df14');\n",
              "      }\n",
              "      })();\n",
              "    </script>\n",
              "  </div>\n",
              "\n",
              "    </div>\n",
              "  </div>\n"
            ],
            "application/vnd.google.colaboratory.intrinsic+json": {
              "type": "dataframe",
              "variable_name": "df14",
              "repr_error": "Out of range float values are not JSON compliant: nan"
            }
          },
          "metadata": {},
          "execution_count": 34
        }
      ]
    },
    {
      "cell_type": "markdown",
      "source": [
        "**5. Age-wise trend analysis**"
      ],
      "metadata": {
        "id": "IAclpAQ8XvkW"
      }
    },
    {
      "cell_type": "code",
      "source": [
        "query15=\"\"\"\n",
        "SELECT o.age_group,\n",
        "       ROUND(AVG(o.Mean_Estimate), 2) AS Avg_Obesity,\n",
        "       ROUND(AVG(m.Mean_Estimate), 2) AS Avg_Malnutrition\n",
        "FROM obesity o\n",
        "JOIN malnutrition m ON o.age_group=m.age_group\n",
        "GROUP BY o.age_group\n",
        "ORDER BY o.age_group;\n",
        "\"\"\"\n",
        "df15=pd.read_sql_query(query15, conn)\n",
        "df15\n",
        "df15.to_csv('/content/age_wise_trends.csv', index=False)"
      ],
      "metadata": {
        "id": "nmYwqLCiXu-m"
      },
      "execution_count": null,
      "outputs": []
    }
  ]
}